{
  "nbformat": 4,
  "nbformat_minor": 0,
  "metadata": {
    "colab": {
      "name": "preprocess2.ipynb",
      "provenance": [],
      "collapsed_sections": []
    },
    "kernelspec": {
      "name": "python3",
      "display_name": "Python 3"
    }
  },
  "cells": [
    {
      "cell_type": "code",
      "metadata": {
        "id": "q2zwpAG8g-Ff",
        "colab_type": "code",
        "colab": {
          "base_uri": "https://localhost:8080/",
          "height": 139
        },
        "outputId": "39541f79-2f97-4300-cd56-c9e9bc2df61b"
      },
      "source": [
        "from google.colab import drive\n",
        "drive.mount('/gdrive')\n",
        "%cd /gdrive"
      ],
      "execution_count": null,
      "outputs": [
        {
          "output_type": "stream",
          "text": [
            "Go to this URL in a browser: https://accounts.google.com/o/oauth2/auth?client_id=947318989803-6bn6qk8qdgf4n4g3pfee6491hc0brc4i.apps.googleusercontent.com&redirect_uri=urn%3aietf%3awg%3aoauth%3a2.0%3aoob&response_type=code&scope=email%20https%3a%2f%2fwww.googleapis.com%2fauth%2fdocs.test%20https%3a%2f%2fwww.googleapis.com%2fauth%2fdrive%20https%3a%2f%2fwww.googleapis.com%2fauth%2fdrive.photos.readonly%20https%3a%2f%2fwww.googleapis.com%2fauth%2fpeopleapi.readonly\n",
            "\n",
            "Enter your authorization code:\n",
            "··········\n",
            "Mounted at /gdrive\n",
            "/gdrive\n"
          ],
          "name": "stdout"
        }
      ]
    },
    {
      "cell_type": "code",
      "metadata": {
        "id": "v8PZBimDhQIk",
        "colab_type": "code",
        "colab": {
          "base_uri": "https://localhost:8080/",
          "height": 80
        },
        "outputId": "63d6cdda-5dd2-46d1-8014-1838276e3624"
      },
      "source": [
        "import pandas as pd\n",
        "import keras \n",
        "import tensorflow as tf\n",
        "from keras import models\n",
        "from keras import layers \n",
        "import numpy as np\n",
        "from keras import optimizers\n",
        "from keras.layers import Conv1D,Flatten\n",
        "from keras.models import model_from_json\n",
        "import numpy as np\n"
      ],
      "execution_count": null,
      "outputs": [
        {
          "output_type": "stream",
          "text": [
            "Using TensorFlow backend.\n"
          ],
          "name": "stderr"
        },
        {
          "output_type": "display_data",
          "data": {
            "text/html": [
              "<p style=\"color: red;\">\n",
              "The default version of TensorFlow in Colab will soon switch to TensorFlow 2.x.<br>\n",
              "We recommend you <a href=\"https://www.tensorflow.org/guide/migrate\" target=\"_blank\">upgrade</a> now \n",
              "or ensure your notebook will continue to use TensorFlow 1.x via the <code>%tensorflow_version 1.x</code> magic:\n",
              "<a href=\"https://colab.research.google.com/notebooks/tensorflow_version.ipynb\" target=\"_blank\">more info</a>.</p>\n"
            ],
            "text/plain": [
              "<IPython.core.display.HTML object>"
            ]
          },
          "metadata": {
            "tags": []
          }
        }
      ]
    },
    {
      "cell_type": "code",
      "metadata": {
        "id": "CH4wv2x7jSFh",
        "colab_type": "code",
        "colab": {
          "base_uri": "https://localhost:8080/",
          "height": 419
        },
        "outputId": "a93fa6ec-f50a-481b-9e54-fb3a72f0051a"
      },
      "source": [
        "data=pd.read_csv('/gdrive/My Drive/Colab Notebooks/megaproject2/data.csv')\n",
        "data"
      ],
      "execution_count": null,
      "outputs": [
        {
          "output_type": "execute_result",
          "data": {
            "text/html": [
              "<div>\n",
              "<style scoped>\n",
              "    .dataframe tbody tr th:only-of-type {\n",
              "        vertical-align: middle;\n",
              "    }\n",
              "\n",
              "    .dataframe tbody tr th {\n",
              "        vertical-align: top;\n",
              "    }\n",
              "\n",
              "    .dataframe thead th {\n",
              "        text-align: right;\n",
              "    }\n",
              "</style>\n",
              "<table border=\"1\" class=\"dataframe\">\n",
              "  <thead>\n",
              "    <tr style=\"text-align: right;\">\n",
              "      <th></th>\n",
              "      <th>District_Name</th>\n",
              "      <th>Crop_Year</th>\n",
              "      <th>Season</th>\n",
              "      <th>Crop</th>\n",
              "      <th>Area</th>\n",
              "      <th>Production</th>\n",
              "    </tr>\n",
              "  </thead>\n",
              "  <tbody>\n",
              "    <tr>\n",
              "      <th>0</th>\n",
              "      <td>NICOBARS</td>\n",
              "      <td>2000</td>\n",
              "      <td>Kharif</td>\n",
              "      <td>Arecanut</td>\n",
              "      <td>1254.0</td>\n",
              "      <td>2000.0</td>\n",
              "    </tr>\n",
              "    <tr>\n",
              "      <th>1</th>\n",
              "      <td>NICOBARS</td>\n",
              "      <td>2000</td>\n",
              "      <td>Kharif</td>\n",
              "      <td>Rice</td>\n",
              "      <td>102.0</td>\n",
              "      <td>321.0</td>\n",
              "    </tr>\n",
              "    <tr>\n",
              "      <th>2</th>\n",
              "      <td>NICOBARS</td>\n",
              "      <td>2000</td>\n",
              "      <td>Whole Year</td>\n",
              "      <td>Banana</td>\n",
              "      <td>176.0</td>\n",
              "      <td>641.0</td>\n",
              "    </tr>\n",
              "    <tr>\n",
              "      <th>3</th>\n",
              "      <td>NICOBARS</td>\n",
              "      <td>2000</td>\n",
              "      <td>Whole Year</td>\n",
              "      <td>Cashewnut</td>\n",
              "      <td>720.0</td>\n",
              "      <td>165.0</td>\n",
              "    </tr>\n",
              "    <tr>\n",
              "      <th>4</th>\n",
              "      <td>NICOBARS</td>\n",
              "      <td>2000</td>\n",
              "      <td>Whole Year</td>\n",
              "      <td>Dry ginger</td>\n",
              "      <td>36.0</td>\n",
              "      <td>100.0</td>\n",
              "    </tr>\n",
              "    <tr>\n",
              "      <th>...</th>\n",
              "      <td>...</td>\n",
              "      <td>...</td>\n",
              "      <td>...</td>\n",
              "      <td>...</td>\n",
              "      <td>...</td>\n",
              "      <td>...</td>\n",
              "    </tr>\n",
              "    <tr>\n",
              "      <th>227693</th>\n",
              "      <td>PURULIA</td>\n",
              "      <td>2014</td>\n",
              "      <td>Summer</td>\n",
              "      <td>Rice</td>\n",
              "      <td>306.0</td>\n",
              "      <td>801.0</td>\n",
              "    </tr>\n",
              "    <tr>\n",
              "      <th>227694</th>\n",
              "      <td>PURULIA</td>\n",
              "      <td>2014</td>\n",
              "      <td>Summer</td>\n",
              "      <td>Sesamum</td>\n",
              "      <td>627.0</td>\n",
              "      <td>463.0</td>\n",
              "    </tr>\n",
              "    <tr>\n",
              "      <th>227695</th>\n",
              "      <td>PURULIA</td>\n",
              "      <td>2014</td>\n",
              "      <td>Whole Year</td>\n",
              "      <td>Sugarcane</td>\n",
              "      <td>324.0</td>\n",
              "      <td>16250.0</td>\n",
              "    </tr>\n",
              "    <tr>\n",
              "      <th>227696</th>\n",
              "      <td>PURULIA</td>\n",
              "      <td>2014</td>\n",
              "      <td>Winter</td>\n",
              "      <td>Rice</td>\n",
              "      <td>279151.0</td>\n",
              "      <td>597899.0</td>\n",
              "    </tr>\n",
              "    <tr>\n",
              "      <th>227697</th>\n",
              "      <td>PURULIA</td>\n",
              "      <td>2014</td>\n",
              "      <td>Winter</td>\n",
              "      <td>Sesamum</td>\n",
              "      <td>175.0</td>\n",
              "      <td>88.0</td>\n",
              "    </tr>\n",
              "  </tbody>\n",
              "</table>\n",
              "<p>227698 rows × 6 columns</p>\n",
              "</div>"
            ],
            "text/plain": [
              "       District_Name  Crop_Year       Season        Crop      Area  Production\n",
              "0           NICOBARS       2000  Kharif         Arecanut    1254.0      2000.0\n",
              "1           NICOBARS       2000  Kharif             Rice     102.0       321.0\n",
              "2           NICOBARS       2000  Whole Year       Banana     176.0       641.0\n",
              "3           NICOBARS       2000  Whole Year    Cashewnut     720.0       165.0\n",
              "4           NICOBARS       2000  Whole Year   Dry ginger      36.0       100.0\n",
              "...              ...        ...          ...         ...       ...         ...\n",
              "227693       PURULIA       2014  Summer             Rice     306.0       801.0\n",
              "227694       PURULIA       2014  Summer          Sesamum     627.0       463.0\n",
              "227695       PURULIA       2014  Whole Year    Sugarcane     324.0     16250.0\n",
              "227696       PURULIA       2014  Winter             Rice  279151.0    597899.0\n",
              "227697       PURULIA       2014  Winter          Sesamum     175.0        88.0\n",
              "\n",
              "[227698 rows x 6 columns]"
            ]
          },
          "metadata": {
            "tags": []
          },
          "execution_count": 3
        }
      ]
    },
    {
      "cell_type": "code",
      "metadata": {
        "id": "CHmMcivzhskp",
        "colab_type": "code",
        "colab": {}
      },
      "source": [
        "data=data.dropna()\n",
        "#data=data.drop('State_Name',axis=1)\n",
        "data=data[data['Production'] >= 1]\n",
        "data=data[data['Area'] >=1]\n",
        "data=data[data['Crop_Year'] <2015]\n",
        "data=data[data['Production']<=20000000]\n",
        "data=data[data['Area']<=1800000]\n"
      ],
      "execution_count": null,
      "outputs": []
    },
    {
      "cell_type": "code",
      "metadata": {
        "id": "LMfDtEiVkOF8",
        "colab_type": "code",
        "colab": {
          "base_uri": "https://localhost:8080/",
          "height": 297
        },
        "outputId": "85c5f3cb-c3d5-4800-f3f6-2ba042af2251"
      },
      "source": [
        "data.describe()"
      ],
      "execution_count": null,
      "outputs": [
        {
          "output_type": "execute_result",
          "data": {
            "text/html": [
              "<div>\n",
              "<style scoped>\n",
              "    .dataframe tbody tr th:only-of-type {\n",
              "        vertical-align: middle;\n",
              "    }\n",
              "\n",
              "    .dataframe tbody tr th {\n",
              "        vertical-align: top;\n",
              "    }\n",
              "\n",
              "    .dataframe thead th {\n",
              "        text-align: right;\n",
              "    }\n",
              "</style>\n",
              "<table border=\"1\" class=\"dataframe\">\n",
              "  <thead>\n",
              "    <tr style=\"text-align: right;\">\n",
              "      <th></th>\n",
              "      <th>Crop_Year</th>\n",
              "      <th>Area</th>\n",
              "      <th>Production</th>\n",
              "    </tr>\n",
              "  </thead>\n",
              "  <tbody>\n",
              "    <tr>\n",
              "      <th>count</th>\n",
              "      <td>227698.000000</td>\n",
              "      <td>2.276980e+05</td>\n",
              "      <td>2.276980e+05</td>\n",
              "    </tr>\n",
              "    <tr>\n",
              "      <th>mean</th>\n",
              "      <td>2005.672408</td>\n",
              "      <td>1.244956e+04</td>\n",
              "      <td>4.817339e+04</td>\n",
              "    </tr>\n",
              "    <tr>\n",
              "      <th>std</th>\n",
              "      <td>4.974020</td>\n",
              "      <td>3.984468e+04</td>\n",
              "      <td>3.868904e+05</td>\n",
              "    </tr>\n",
              "    <tr>\n",
              "      <th>min</th>\n",
              "      <td>1997.000000</td>\n",
              "      <td>1.000000e+00</td>\n",
              "      <td>1.000000e+00</td>\n",
              "    </tr>\n",
              "    <tr>\n",
              "      <th>25%</th>\n",
              "      <td>2002.000000</td>\n",
              "      <td>9.200000e+01</td>\n",
              "      <td>1.000000e+02</td>\n",
              "    </tr>\n",
              "    <tr>\n",
              "      <th>50%</th>\n",
              "      <td>2006.000000</td>\n",
              "      <td>6.470000e+02</td>\n",
              "      <td>8.120000e+02</td>\n",
              "    </tr>\n",
              "    <tr>\n",
              "      <th>75%</th>\n",
              "      <td>2010.000000</td>\n",
              "      <td>4.861750e+03</td>\n",
              "      <td>7.591000e+03</td>\n",
              "    </tr>\n",
              "    <tr>\n",
              "      <th>max</th>\n",
              "      <td>2014.000000</td>\n",
              "      <td>1.403200e+06</td>\n",
              "      <td>1.822300e+07</td>\n",
              "    </tr>\n",
              "  </tbody>\n",
              "</table>\n",
              "</div>"
            ],
            "text/plain": [
              "           Crop_Year          Area    Production\n",
              "count  227698.000000  2.276980e+05  2.276980e+05\n",
              "mean     2005.672408  1.244956e+04  4.817339e+04\n",
              "std         4.974020  3.984468e+04  3.868904e+05\n",
              "min      1997.000000  1.000000e+00  1.000000e+00\n",
              "25%      2002.000000  9.200000e+01  1.000000e+02\n",
              "50%      2006.000000  6.470000e+02  8.120000e+02\n",
              "75%      2010.000000  4.861750e+03  7.591000e+03\n",
              "max      2014.000000  1.403200e+06  1.822300e+07"
            ]
          },
          "metadata": {
            "tags": []
          },
          "execution_count": 33
        }
      ]
    },
    {
      "cell_type": "code",
      "metadata": {
        "id": "UY4jWthukGcM",
        "colab_type": "code",
        "colab": {}
      },
      "source": [
        "# importing label encoder from sklearn \n",
        "from sklearn.preprocessing import LabelEncoder \n",
        "le = LabelEncoder()   \n",
        "data['District_Name']= le.fit_transform(data['District_Name'])  \n",
        "data['Season']= le.fit_transform(data['Season'])  \n",
        "data['Crop']= le.fit_transform(data['Crop']) "
      ],
      "execution_count": null,
      "outputs": []
    },
    {
      "cell_type": "code",
      "metadata": {
        "id": "stiZ2rGcPsDJ",
        "colab_type": "code",
        "colab": {
          "base_uri": "https://localhost:8080/",
          "height": 419
        },
        "outputId": "04974269-e06f-4147-d26b-187645458659"
      },
      "source": [
        "data"
      ],
      "execution_count": null,
      "outputs": [
        {
          "output_type": "execute_result",
          "data": {
            "text/html": [
              "<div>\n",
              "<style scoped>\n",
              "    .dataframe tbody tr th:only-of-type {\n",
              "        vertical-align: middle;\n",
              "    }\n",
              "\n",
              "    .dataframe tbody tr th {\n",
              "        vertical-align: top;\n",
              "    }\n",
              "\n",
              "    .dataframe thead th {\n",
              "        text-align: right;\n",
              "    }\n",
              "</style>\n",
              "<table border=\"1\" class=\"dataframe\">\n",
              "  <thead>\n",
              "    <tr style=\"text-align: right;\">\n",
              "      <th></th>\n",
              "      <th>District_Name</th>\n",
              "      <th>Crop_Year</th>\n",
              "      <th>Season</th>\n",
              "      <th>Crop</th>\n",
              "      <th>Area</th>\n",
              "      <th>Production</th>\n",
              "    </tr>\n",
              "  </thead>\n",
              "  <tbody>\n",
              "    <tr>\n",
              "      <th>0</th>\n",
              "      <td>427</td>\n",
              "      <td>2000</td>\n",
              "      <td>1</td>\n",
              "      <td>1</td>\n",
              "      <td>1254.0</td>\n",
              "      <td>2000.0</td>\n",
              "    </tr>\n",
              "    <tr>\n",
              "      <th>1</th>\n",
              "      <td>427</td>\n",
              "      <td>2000</td>\n",
              "      <td>1</td>\n",
              "      <td>73</td>\n",
              "      <td>102.0</td>\n",
              "      <td>321.0</td>\n",
              "    </tr>\n",
              "    <tr>\n",
              "      <th>2</th>\n",
              "      <td>427</td>\n",
              "      <td>2000</td>\n",
              "      <td>4</td>\n",
              "      <td>5</td>\n",
              "      <td>176.0</td>\n",
              "      <td>641.0</td>\n",
              "    </tr>\n",
              "    <tr>\n",
              "      <th>3</th>\n",
              "      <td>427</td>\n",
              "      <td>2000</td>\n",
              "      <td>4</td>\n",
              "      <td>18</td>\n",
              "      <td>720.0</td>\n",
              "      <td>165.0</td>\n",
              "    </tr>\n",
              "    <tr>\n",
              "      <th>4</th>\n",
              "      <td>427</td>\n",
              "      <td>2000</td>\n",
              "      <td>4</td>\n",
              "      <td>31</td>\n",
              "      <td>36.0</td>\n",
              "      <td>100.0</td>\n",
              "    </tr>\n",
              "    <tr>\n",
              "      <th>...</th>\n",
              "      <td>...</td>\n",
              "      <td>...</td>\n",
              "      <td>...</td>\n",
              "      <td>...</td>\n",
              "      <td>...</td>\n",
              "      <td>...</td>\n",
              "    </tr>\n",
              "    <tr>\n",
              "      <th>227693</th>\n",
              "      <td>471</td>\n",
              "      <td>2014</td>\n",
              "      <td>3</td>\n",
              "      <td>73</td>\n",
              "      <td>306.0</td>\n",
              "      <td>801.0</td>\n",
              "    </tr>\n",
              "    <tr>\n",
              "      <th>227694</th>\n",
              "      <td>471</td>\n",
              "      <td>2014</td>\n",
              "      <td>3</td>\n",
              "      <td>80</td>\n",
              "      <td>627.0</td>\n",
              "      <td>463.0</td>\n",
              "    </tr>\n",
              "    <tr>\n",
              "      <th>227695</th>\n",
              "      <td>471</td>\n",
              "      <td>2014</td>\n",
              "      <td>4</td>\n",
              "      <td>83</td>\n",
              "      <td>324.0</td>\n",
              "      <td>16250.0</td>\n",
              "    </tr>\n",
              "    <tr>\n",
              "      <th>227696</th>\n",
              "      <td>471</td>\n",
              "      <td>2014</td>\n",
              "      <td>5</td>\n",
              "      <td>73</td>\n",
              "      <td>279151.0</td>\n",
              "      <td>597899.0</td>\n",
              "    </tr>\n",
              "    <tr>\n",
              "      <th>227697</th>\n",
              "      <td>471</td>\n",
              "      <td>2014</td>\n",
              "      <td>5</td>\n",
              "      <td>80</td>\n",
              "      <td>175.0</td>\n",
              "      <td>88.0</td>\n",
              "    </tr>\n",
              "  </tbody>\n",
              "</table>\n",
              "<p>227698 rows × 6 columns</p>\n",
              "</div>"
            ],
            "text/plain": [
              "        District_Name  Crop_Year  Season  Crop      Area  Production\n",
              "0                 427       2000       1     1    1254.0      2000.0\n",
              "1                 427       2000       1    73     102.0       321.0\n",
              "2                 427       2000       4     5     176.0       641.0\n",
              "3                 427       2000       4    18     720.0       165.0\n",
              "4                 427       2000       4    31      36.0       100.0\n",
              "...               ...        ...     ...   ...       ...         ...\n",
              "227693            471       2014       3    73     306.0       801.0\n",
              "227694            471       2014       3    80     627.0       463.0\n",
              "227695            471       2014       4    83     324.0     16250.0\n",
              "227696            471       2014       5    73  279151.0    597899.0\n",
              "227697            471       2014       5    80     175.0        88.0\n",
              "\n",
              "[227698 rows x 6 columns]"
            ]
          },
          "metadata": {
            "tags": []
          },
          "execution_count": 7
        }
      ]
    },
    {
      "cell_type": "code",
      "metadata": {
        "id": "8FyOrvQMOcZu",
        "colab_type": "code",
        "colab": {}
      },
      "source": [
        "print(train.District_Name.unique())\n",
        "print(train.Season.unique())\n",
        "print(train.Crop.unique())"
      ],
      "execution_count": null,
      "outputs": []
    },
    {
      "cell_type": "code",
      "metadata": {
        "id": "XtjCrlVjk47Q",
        "colab_type": "code",
        "colab": {}
      },
      "source": [
        "from sklearn.model_selection import train_test_split\n",
        "\n",
        "train, test = train_test_split(data, test_size=0.20)"
      ],
      "execution_count": null,
      "outputs": []
    },
    {
      "cell_type": "code",
      "metadata": {
        "id": "ym3Fqh_QnNvc",
        "colab_type": "code",
        "colab": {
          "base_uri": "https://localhost:8080/",
          "height": 34
        },
        "outputId": "fbedbd28-57fc-4d1f-8878-b7225f835084"
      },
      "source": [
        "print(\"train:\",len(train),\"test:\",len(test),\"=\",len(train)+len(test))"
      ],
      "execution_count": null,
      "outputs": [
        {
          "output_type": "stream",
          "text": [
            "train: 182158 test: 45540 = 227698\n"
          ],
          "name": "stdout"
        }
      ]
    },
    {
      "cell_type": "code",
      "metadata": {
        "id": "PmrkkJP-AJur",
        "colab_type": "code",
        "colab": {}
      },
      "source": [
        "from sklearn.preprocessing import OneHotEncoder \n",
        "onehotencoder = OneHotEncoder(categorical_features =[0,2,3] ) \n",
        "x_train = onehotencoder.fit_transform(train).toarray()\n",
        "x_test = onehotencoder.fit_transform(test).toarray()\n",
        "print(x_train.shape)\n",
        "print(x_test.shape)"
      ],
      "execution_count": null,
      "outputs": []
    },
    {
      "cell_type": "code",
      "metadata": {
        "id": "vm-C_5ehnt-c",
        "colab_type": "code",
        "colab": {
          "base_uri": "https://localhost:8080/",
          "height": 297
        },
        "outputId": "648d606c-a05a-479b-8c61-c370ea7056b6"
      },
      "source": [
        "train.describe()"
      ],
      "execution_count": null,
      "outputs": [
        {
          "output_type": "execute_result",
          "data": {
            "text/html": [
              "<div>\n",
              "<style scoped>\n",
              "    .dataframe tbody tr th:only-of-type {\n",
              "        vertical-align: middle;\n",
              "    }\n",
              "\n",
              "    .dataframe tbody tr th {\n",
              "        vertical-align: top;\n",
              "    }\n",
              "\n",
              "    .dataframe thead th {\n",
              "        text-align: right;\n",
              "    }\n",
              "</style>\n",
              "<table border=\"1\" class=\"dataframe\">\n",
              "  <thead>\n",
              "    <tr style=\"text-align: right;\">\n",
              "      <th></th>\n",
              "      <th>District_Name</th>\n",
              "      <th>Crop_Year</th>\n",
              "      <th>Season</th>\n",
              "      <th>Crop</th>\n",
              "      <th>Area</th>\n",
              "      <th>Production</th>\n",
              "    </tr>\n",
              "  </thead>\n",
              "  <tbody>\n",
              "    <tr>\n",
              "      <th>count</th>\n",
              "      <td>166219.000000</td>\n",
              "      <td>166219.000000</td>\n",
              "      <td>166219.000000</td>\n",
              "      <td>166219.000000</td>\n",
              "      <td>1.662190e+05</td>\n",
              "      <td>1.662190e+05</td>\n",
              "    </tr>\n",
              "    <tr>\n",
              "      <th>mean</th>\n",
              "      <td>310.012411</td>\n",
              "      <td>2005.665369</td>\n",
              "      <td>2.156829</td>\n",
              "      <td>55.130117</td>\n",
              "      <td>1.247285e+04</td>\n",
              "      <td>4.794215e+04</td>\n",
              "    </tr>\n",
              "    <tr>\n",
              "      <th>std</th>\n",
              "      <td>187.271723</td>\n",
              "      <td>4.976012</td>\n",
              "      <td>1.280555</td>\n",
              "      <td>26.794776</td>\n",
              "      <td>4.033101e+04</td>\n",
              "      <td>3.868915e+05</td>\n",
              "    </tr>\n",
              "    <tr>\n",
              "      <th>min</th>\n",
              "      <td>0.000000</td>\n",
              "      <td>1997.000000</td>\n",
              "      <td>0.000000</td>\n",
              "      <td>0.000000</td>\n",
              "      <td>1.000000e+00</td>\n",
              "      <td>1.000000e+00</td>\n",
              "    </tr>\n",
              "    <tr>\n",
              "      <th>25%</th>\n",
              "      <td>142.000000</td>\n",
              "      <td>2002.000000</td>\n",
              "      <td>1.000000</td>\n",
              "      <td>36.000000</td>\n",
              "      <td>9.200000e+01</td>\n",
              "      <td>1.000000e+02</td>\n",
              "    </tr>\n",
              "    <tr>\n",
              "      <th>50%</th>\n",
              "      <td>302.000000</td>\n",
              "      <td>2006.000000</td>\n",
              "      <td>2.000000</td>\n",
              "      <td>54.000000</td>\n",
              "      <td>6.450000e+02</td>\n",
              "      <td>8.100000e+02</td>\n",
              "    </tr>\n",
              "    <tr>\n",
              "      <th>75%</th>\n",
              "      <td>472.000000</td>\n",
              "      <td>2010.000000</td>\n",
              "      <td>4.000000</td>\n",
              "      <td>80.000000</td>\n",
              "      <td>4.828000e+03</td>\n",
              "      <td>7.538000e+03</td>\n",
              "    </tr>\n",
              "    <tr>\n",
              "      <th>max</th>\n",
              "      <td>645.000000</td>\n",
              "      <td>2014.000000</td>\n",
              "      <td>5.000000</td>\n",
              "      <td>95.000000</td>\n",
              "      <td>1.403200e+06</td>\n",
              "      <td>1.810000e+07</td>\n",
              "    </tr>\n",
              "  </tbody>\n",
              "</table>\n",
              "</div>"
            ],
            "text/plain": [
              "       District_Name      Crop_Year  ...          Area    Production\n",
              "count  166219.000000  166219.000000  ...  1.662190e+05  1.662190e+05\n",
              "mean      310.012411    2005.665369  ...  1.247285e+04  4.794215e+04\n",
              "std       187.271723       4.976012  ...  4.033101e+04  3.868915e+05\n",
              "min         0.000000    1997.000000  ...  1.000000e+00  1.000000e+00\n",
              "25%       142.000000    2002.000000  ...  9.200000e+01  1.000000e+02\n",
              "50%       302.000000    2006.000000  ...  6.450000e+02  8.100000e+02\n",
              "75%       472.000000    2010.000000  ...  4.828000e+03  7.538000e+03\n",
              "max       645.000000    2014.000000  ...  1.403200e+06  1.810000e+07\n",
              "\n",
              "[8 rows x 6 columns]"
            ]
          },
          "metadata": {
            "tags": []
          },
          "execution_count": 62
        }
      ]
    },
    {
      "cell_type": "code",
      "metadata": {
        "id": "9c_bP1G_oJPn",
        "colab_type": "code",
        "colab": {
          "base_uri": "https://localhost:8080/",
          "height": 297
        },
        "outputId": "9bbc4c12-08d5-4ac4-ed61-a5fb7590beba"
      },
      "source": [
        "test.describe()"
      ],
      "execution_count": null,
      "outputs": [
        {
          "output_type": "execute_result",
          "data": {
            "text/html": [
              "<div>\n",
              "<style scoped>\n",
              "    .dataframe tbody tr th:only-of-type {\n",
              "        vertical-align: middle;\n",
              "    }\n",
              "\n",
              "    .dataframe tbody tr th {\n",
              "        vertical-align: top;\n",
              "    }\n",
              "\n",
              "    .dataframe thead th {\n",
              "        text-align: right;\n",
              "    }\n",
              "</style>\n",
              "<table border=\"1\" class=\"dataframe\">\n",
              "  <thead>\n",
              "    <tr style=\"text-align: right;\">\n",
              "      <th></th>\n",
              "      <th>District_Name</th>\n",
              "      <th>Crop_Year</th>\n",
              "      <th>Season</th>\n",
              "      <th>Crop</th>\n",
              "      <th>Area</th>\n",
              "      <th>Production</th>\n",
              "    </tr>\n",
              "  </thead>\n",
              "  <tbody>\n",
              "    <tr>\n",
              "      <th>count</th>\n",
              "      <td>61479.000000</td>\n",
              "      <td>61479.000000</td>\n",
              "      <td>61479.000000</td>\n",
              "      <td>61479.000000</td>\n",
              "      <td>61479.000000</td>\n",
              "      <td>6.147900e+04</td>\n",
              "    </tr>\n",
              "    <tr>\n",
              "      <th>mean</th>\n",
              "      <td>311.551164</td>\n",
              "      <td>2005.691439</td>\n",
              "      <td>2.146196</td>\n",
              "      <td>55.000602</td>\n",
              "      <td>12386.575559</td>\n",
              "      <td>4.879858e+04</td>\n",
              "    </tr>\n",
              "    <tr>\n",
              "      <th>std</th>\n",
              "      <td>186.718038</td>\n",
              "      <td>4.968620</td>\n",
              "      <td>1.279850</td>\n",
              "      <td>26.702678</td>\n",
              "      <td>38499.300688</td>\n",
              "      <td>3.868898e+05</td>\n",
              "    </tr>\n",
              "    <tr>\n",
              "      <th>min</th>\n",
              "      <td>0.000000</td>\n",
              "      <td>1997.000000</td>\n",
              "      <td>0.000000</td>\n",
              "      <td>0.000000</td>\n",
              "      <td>1.000000</td>\n",
              "      <td>1.000000e+00</td>\n",
              "    </tr>\n",
              "    <tr>\n",
              "      <th>25%</th>\n",
              "      <td>145.000000</td>\n",
              "      <td>2002.000000</td>\n",
              "      <td>1.000000</td>\n",
              "      <td>36.000000</td>\n",
              "      <td>92.000000</td>\n",
              "      <td>1.000000e+02</td>\n",
              "    </tr>\n",
              "    <tr>\n",
              "      <th>50%</th>\n",
              "      <td>304.000000</td>\n",
              "      <td>2006.000000</td>\n",
              "      <td>2.000000</td>\n",
              "      <td>54.000000</td>\n",
              "      <td>651.000000</td>\n",
              "      <td>8.200000e+02</td>\n",
              "    </tr>\n",
              "    <tr>\n",
              "      <th>75%</th>\n",
              "      <td>472.000000</td>\n",
              "      <td>2010.000000</td>\n",
              "      <td>3.000000</td>\n",
              "      <td>80.000000</td>\n",
              "      <td>4942.000000</td>\n",
              "      <td>7.700000e+03</td>\n",
              "    </tr>\n",
              "    <tr>\n",
              "      <th>max</th>\n",
              "      <td>645.000000</td>\n",
              "      <td>2014.000000</td>\n",
              "      <td>5.000000</td>\n",
              "      <td>95.000000</td>\n",
              "      <td>921718.000000</td>\n",
              "      <td>1.822300e+07</td>\n",
              "    </tr>\n",
              "  </tbody>\n",
              "</table>\n",
              "</div>"
            ],
            "text/plain": [
              "       District_Name     Crop_Year  ...           Area    Production\n",
              "count   61479.000000  61479.000000  ...   61479.000000  6.147900e+04\n",
              "mean      311.551164   2005.691439  ...   12386.575559  4.879858e+04\n",
              "std       186.718038      4.968620  ...   38499.300688  3.868898e+05\n",
              "min         0.000000   1997.000000  ...       1.000000  1.000000e+00\n",
              "25%       145.000000   2002.000000  ...      92.000000  1.000000e+02\n",
              "50%       304.000000   2006.000000  ...     651.000000  8.200000e+02\n",
              "75%       472.000000   2010.000000  ...    4942.000000  7.700000e+03\n",
              "max       645.000000   2014.000000  ...  921718.000000  1.822300e+07\n",
              "\n",
              "[8 rows x 6 columns]"
            ]
          },
          "metadata": {
            "tags": []
          },
          "execution_count": 63
        }
      ]
    },
    {
      "cell_type": "code",
      "metadata": {
        "id": "mvRwTfarojCF",
        "colab_type": "code",
        "colab": {
          "base_uri": "https://localhost:8080/",
          "height": 51
        },
        "outputId": "d7216a4d-7b5a-47ed-c091-44132c55c9cc"
      },
      "source": [
        "print(x_train.shape)\n",
        "print(x_test.shape)"
      ],
      "execution_count": null,
      "outputs": [
        {
          "output_type": "stream",
          "text": [
            "(182158, 751)\n",
            "(45540, 748)\n"
          ],
          "name": "stdout"
        }
      ]
    },
    {
      "cell_type": "code",
      "metadata": {
        "id": "tldy2QfOq7yf",
        "colab_type": "code",
        "colab": {}
      },
      "source": [
        "df=pd.DataFrame(test)\n",
        "df.to_csv('/gdrive/My Drive/SEMVII/mp/test.csv',index=False)\n",
        "df=pd.DataFrame(train)\n",
        "df.to_csv('/gdrive/My Drive/SEMVII/mp/train.csv',index=False)\n"
      ],
      "execution_count": null,
      "outputs": []
    }
  ]
}