{
  "nbformat": 4,
  "nbformat_minor": 0,
  "metadata": {
    "colab": {
      "name": "ClassifyColumn.ipynb",
      "provenance": [],
      "collapsed_sections": []
    },
    "kernelspec": {
      "name": "python3",
      "display_name": "Python 3"
    }
  },
  "cells": [
    {
      "cell_type": "code",
      "metadata": {
        "id": "ALiUVlD1nNla",
        "colab_type": "code",
        "colab": {
          "base_uri": "https://localhost:8080/",
          "height": 139
        },
        "outputId": "65adda10-1a71-4645-a214-8f7ea53129da"
      },
      "source": [
        "from google.colab import drive\n",
        "drive.mount('/gdrive')\n",
        "%cd /gdrive"
      ],
      "execution_count": null,
      "outputs": [
        {
          "output_type": "stream",
          "text": [
            "Go to this URL in a browser: https://accounts.google.com/o/oauth2/auth?client_id=947318989803-6bn6qk8qdgf4n4g3pfee6491hc0brc4i.apps.googleusercontent.com&redirect_uri=urn%3aietf%3awg%3aoauth%3a2.0%3aoob&response_type=code&scope=email%20https%3a%2f%2fwww.googleapis.com%2fauth%2fdocs.test%20https%3a%2f%2fwww.googleapis.com%2fauth%2fdrive%20https%3a%2f%2fwww.googleapis.com%2fauth%2fdrive.photos.readonly%20https%3a%2f%2fwww.googleapis.com%2fauth%2fpeopleapi.readonly\n",
            "\n",
            "Enter your authorization code:\n",
            "··········\n",
            "Mounted at /gdrive\n",
            "/gdrive\n"
          ],
          "name": "stdout"
        }
      ]
    },
    {
      "cell_type": "code",
      "metadata": {
        "id": "0IBjMxdBnmDY",
        "colab_type": "code",
        "colab": {
          "base_uri": "https://localhost:8080/",
          "height": 80
        },
        "outputId": "5d537a79-b2fb-47f1-c8d6-7841a519c43a"
      },
      "source": [
        "import pandas as pd\n",
        "import keras \n",
        "import tensorflow as tf\n",
        "from keras import models\n",
        "from keras import layers \n",
        "import numpy as np\n",
        "import matplotlib.pyplot as plt\n",
        "from keras.utils import to_categorical\n",
        "from keras import optimizers\n",
        "from keras.layers import Conv1D,Flatten,Dropout\n",
        "from keras.models import model_from_json\n",
        "import numpy as np\n"
      ],
      "execution_count": null,
      "outputs": [
        {
          "output_type": "stream",
          "text": [
            "Using TensorFlow backend.\n"
          ],
          "name": "stderr"
        },
        {
          "output_type": "display_data",
          "data": {
            "text/html": [
              "<p style=\"color: red;\">\n",
              "The default version of TensorFlow in Colab will soon switch to TensorFlow 2.x.<br>\n",
              "We recommend you <a href=\"https://www.tensorflow.org/guide/migrate\" target=\"_blank\">upgrade</a> now \n",
              "or ensure your notebook will continue to use TensorFlow 1.x via the <code>%tensorflow_version 1.x</code> magic:\n",
              "<a href=\"https://colab.research.google.com/notebooks/tensorflow_version.ipynb\" target=\"_blank\">more info</a>.</p>\n"
            ],
            "text/plain": [
              "<IPython.core.display.HTML object>"
            ]
          },
          "metadata": {
            "tags": []
          }
        }
      ]
    },
    {
      "cell_type": "code",
      "metadata": {
        "id": "ekT8oKN1nyVW",
        "colab_type": "code",
        "colab": {
          "base_uri": "https://localhost:8080/",
          "height": 419
        },
        "outputId": "221490cc-bb4a-48b1-9860-8f407e47f249"
      },
      "source": [
        "train=pd.read_csv('/gdrive/My Drive/Colab Notebooks/megaproject2/Datasets/original_dataset.csv')\n",
        "train"
      ],
      "execution_count": null,
      "outputs": [
        {
          "output_type": "execute_result",
          "data": {
            "text/html": [
              "<div>\n",
              "<style scoped>\n",
              "    .dataframe tbody tr th:only-of-type {\n",
              "        vertical-align: middle;\n",
              "    }\n",
              "\n",
              "    .dataframe tbody tr th {\n",
              "        vertical-align: top;\n",
              "    }\n",
              "\n",
              "    .dataframe thead th {\n",
              "        text-align: right;\n",
              "    }\n",
              "</style>\n",
              "<table border=\"1\" class=\"dataframe\">\n",
              "  <thead>\n",
              "    <tr style=\"text-align: right;\">\n",
              "      <th></th>\n",
              "      <th>State_Name</th>\n",
              "      <th>District_Name</th>\n",
              "      <th>Crop_Year</th>\n",
              "      <th>Season</th>\n",
              "      <th>Crop</th>\n",
              "      <th>Area</th>\n",
              "      <th>Production</th>\n",
              "    </tr>\n",
              "  </thead>\n",
              "  <tbody>\n",
              "    <tr>\n",
              "      <th>0</th>\n",
              "      <td>Andaman and Nicobar Islands</td>\n",
              "      <td>NICOBARS</td>\n",
              "      <td>2000</td>\n",
              "      <td>Kharif</td>\n",
              "      <td>Arecanut</td>\n",
              "      <td>1254.0</td>\n",
              "      <td>2000.0</td>\n",
              "    </tr>\n",
              "    <tr>\n",
              "      <th>1</th>\n",
              "      <td>Andaman and Nicobar Islands</td>\n",
              "      <td>NICOBARS</td>\n",
              "      <td>2000</td>\n",
              "      <td>Kharif</td>\n",
              "      <td>Rice</td>\n",
              "      <td>102.0</td>\n",
              "      <td>321.0</td>\n",
              "    </tr>\n",
              "    <tr>\n",
              "      <th>2</th>\n",
              "      <td>Andaman and Nicobar Islands</td>\n",
              "      <td>NICOBARS</td>\n",
              "      <td>2000</td>\n",
              "      <td>Whole Year</td>\n",
              "      <td>Banana</td>\n",
              "      <td>176.0</td>\n",
              "      <td>641.0</td>\n",
              "    </tr>\n",
              "    <tr>\n",
              "      <th>3</th>\n",
              "      <td>Andaman and Nicobar Islands</td>\n",
              "      <td>NICOBARS</td>\n",
              "      <td>2000</td>\n",
              "      <td>Whole Year</td>\n",
              "      <td>Cashewnut</td>\n",
              "      <td>720.0</td>\n",
              "      <td>165.0</td>\n",
              "    </tr>\n",
              "    <tr>\n",
              "      <th>4</th>\n",
              "      <td>Andaman and Nicobar Islands</td>\n",
              "      <td>NICOBARS</td>\n",
              "      <td>2000</td>\n",
              "      <td>Whole Year</td>\n",
              "      <td>Dry ginger</td>\n",
              "      <td>36.0</td>\n",
              "      <td>100.0</td>\n",
              "    </tr>\n",
              "    <tr>\n",
              "      <th>...</th>\n",
              "      <td>...</td>\n",
              "      <td>...</td>\n",
              "      <td>...</td>\n",
              "      <td>...</td>\n",
              "      <td>...</td>\n",
              "      <td>...</td>\n",
              "      <td>...</td>\n",
              "    </tr>\n",
              "    <tr>\n",
              "      <th>233612</th>\n",
              "      <td>West Bengal</td>\n",
              "      <td>PURULIA</td>\n",
              "      <td>2014</td>\n",
              "      <td>Summer</td>\n",
              "      <td>Rice</td>\n",
              "      <td>306.0</td>\n",
              "      <td>801.0</td>\n",
              "    </tr>\n",
              "    <tr>\n",
              "      <th>233613</th>\n",
              "      <td>West Bengal</td>\n",
              "      <td>PURULIA</td>\n",
              "      <td>2014</td>\n",
              "      <td>Summer</td>\n",
              "      <td>Sesamum</td>\n",
              "      <td>627.0</td>\n",
              "      <td>463.0</td>\n",
              "    </tr>\n",
              "    <tr>\n",
              "      <th>233614</th>\n",
              "      <td>West Bengal</td>\n",
              "      <td>PURULIA</td>\n",
              "      <td>2014</td>\n",
              "      <td>Whole Year</td>\n",
              "      <td>Sugarcane</td>\n",
              "      <td>324.0</td>\n",
              "      <td>16250.0</td>\n",
              "    </tr>\n",
              "    <tr>\n",
              "      <th>233615</th>\n",
              "      <td>West Bengal</td>\n",
              "      <td>PURULIA</td>\n",
              "      <td>2014</td>\n",
              "      <td>Winter</td>\n",
              "      <td>Rice</td>\n",
              "      <td>279151.0</td>\n",
              "      <td>597899.0</td>\n",
              "    </tr>\n",
              "    <tr>\n",
              "      <th>233616</th>\n",
              "      <td>West Bengal</td>\n",
              "      <td>PURULIA</td>\n",
              "      <td>2014</td>\n",
              "      <td>Winter</td>\n",
              "      <td>Sesamum</td>\n",
              "      <td>175.0</td>\n",
              "      <td>88.0</td>\n",
              "    </tr>\n",
              "  </tbody>\n",
              "</table>\n",
              "<p>233617 rows × 7 columns</p>\n",
              "</div>"
            ],
            "text/plain": [
              "                         State_Name District_Name  ...      Area Production\n",
              "0       Andaman and Nicobar Islands      NICOBARS  ...    1254.0     2000.0\n",
              "1       Andaman and Nicobar Islands      NICOBARS  ...     102.0      321.0\n",
              "2       Andaman and Nicobar Islands      NICOBARS  ...     176.0      641.0\n",
              "3       Andaman and Nicobar Islands      NICOBARS  ...     720.0      165.0\n",
              "4       Andaman and Nicobar Islands      NICOBARS  ...      36.0      100.0\n",
              "...                             ...           ...  ...       ...        ...\n",
              "233612                  West Bengal       PURULIA  ...     306.0      801.0\n",
              "233613                  West Bengal       PURULIA  ...     627.0      463.0\n",
              "233614                  West Bengal       PURULIA  ...     324.0    16250.0\n",
              "233615                  West Bengal       PURULIA  ...  279151.0   597899.0\n",
              "233616                  West Bengal       PURULIA  ...     175.0       88.0\n",
              "\n",
              "[233617 rows x 7 columns]"
            ]
          },
          "metadata": {
            "tags": []
          },
          "execution_count": 6
        }
      ]
    },
    {
      "cell_type": "code",
      "metadata": {
        "id": "OWYwTEjOoLgx",
        "colab_type": "code",
        "colab": {}
      },
      "source": [
        "train=train.dropna()\n",
        "train=train[train['Production'] >= 1]\n",
        "train=train[train['Area'] >=1]\n",
        "train=train[train['Crop_Year'] <2015]\n",
        "train=train[train['Production']<=20000000]\n",
        "train=train[train['Area']<=1800000]"
      ],
      "execution_count": null,
      "outputs": []
    },
    {
      "cell_type": "code",
      "metadata": {
        "id": "F84u92Agr6-4",
        "colab_type": "code",
        "colab": {
          "base_uri": "https://localhost:8080/",
          "height": 153
        },
        "outputId": "5c1f7cda-507f-4c8f-f0a2-a5da2c4c4ef0"
      },
      "source": [
        "State=train.State_Name.unique()\n",
        "print(State)\n",
        "State.shape"
      ],
      "execution_count": null,
      "outputs": [
        {
          "output_type": "stream",
          "text": [
            "['Andaman and Nicobar Islands' 'Andhra Pradesh' 'Arunachal Pradesh'\n",
            " 'Assam' 'Bihar' 'Chandigarh' 'Chhattisgarh' 'Dadra and Nagar Haveli'\n",
            " 'Goa' 'Gujarat' 'Haryana' 'Himachal Pradesh' 'Jammu and Kashmir '\n",
            " 'Jharkhand' 'Karnataka' 'Kerala' 'Madhya Pradesh' 'Maharashtra' 'Manipur'\n",
            " 'Meghalaya' 'Mizoram' 'Nagaland' 'Odisha' 'Puducherry' 'Punjab'\n",
            " 'Rajasthan' 'Sikkim' 'Tamil Nadu' 'Telangana ' 'Tripura' 'Uttar Pradesh'\n",
            " 'Uttarakhand' 'West Bengal']\n"
          ],
          "name": "stdout"
        },
        {
          "output_type": "execute_result",
          "data": {
            "text/plain": [
              "(33,)"
            ]
          },
          "metadata": {
            "tags": []
          },
          "execution_count": 19
        }
      ]
    },
    {
      "cell_type": "code",
      "metadata": {
        "id": "v_2egcSdsZ1C",
        "colab_type": "code",
        "colab": {}
      },
      "source": [
        "df=pd.DataFrame(State)\n",
        "df.to_csv('/gdrive/My Drive//SEMVII/mp/state.csv')    #save state.csv to drive"
      ],
      "execution_count": null,
      "outputs": []
    },
    {
      "cell_type": "code",
      "metadata": {
        "id": "SFG5wG6ooXCr",
        "colab_type": "code",
        "colab": {}
      },
      "source": [
        "District=train.District_Name.unique()"
      ],
      "execution_count": null,
      "outputs": []
    },
    {
      "cell_type": "code",
      "metadata": {
        "id": "XG_5iy4VuDi-",
        "colab_type": "code",
        "colab": {
          "base_uri": "https://localhost:8080/",
          "height": 34
        },
        "outputId": "70b9bfd3-186a-41f1-f160-2b89fdbefcc4"
      },
      "source": [
        "District.shape"
      ],
      "execution_count": null,
      "outputs": [
        {
          "output_type": "execute_result",
          "data": {
            "text/plain": [
              "(646,)"
            ]
          },
          "metadata": {
            "tags": []
          },
          "execution_count": 25
        }
      ]
    },
    {
      "cell_type": "code",
      "metadata": {
        "id": "jJrXNfqB4UoK",
        "colab_type": "code",
        "colab": {
          "base_uri": "https://localhost:8080/",
          "height": 1000
        },
        "outputId": "c5d6f38a-9fed-4ad1-e3f3-e73dcde610cd"
      },
      "source": [
        "District.sort()\n",
        "District"
      ],
      "execution_count": null,
      "outputs": [
        {
          "output_type": "execute_result",
          "data": {
            "text/plain": [
              "array(['24 PARAGANAS NORTH', '24 PARAGANAS SOUTH', 'ADILABAD',\n",
              "       'AGAR MALWA', 'AGRA', 'AHMADABAD', 'AHMEDNAGAR', 'AIZAWL', 'AJMER',\n",
              "       'AKOLA', 'ALAPPUZHA', 'ALIGARH', 'ALIRAJPUR', 'ALLAHABAD',\n",
              "       'ALMORA', 'ALWAR', 'AMBALA', 'AMBEDKAR NAGAR', 'AMETHI',\n",
              "       'AMRAVATI', 'AMRELI', 'AMRITSAR', 'AMROHA', 'ANAND', 'ANANTAPUR',\n",
              "       'ANANTNAG', 'ANJAW', 'ANUGUL', 'ANUPPUR', 'ARARIA', 'ARIYALUR',\n",
              "       'ARWAL', 'ASHOKNAGAR', 'AURAIYA', 'AURANGABAD', 'AZAMGARH',\n",
              "       'BADGAM', 'BAGALKOT', 'BAGESHWAR', 'BAGHPAT', 'BAHRAICH', 'BAKSA',\n",
              "       'BALAGHAT', 'BALANGIR', 'BALESHWAR', 'BALLIA', 'BALOD',\n",
              "       'BALODA BAZAR', 'BALRAMPUR', 'BANAS KANTHA', 'BANDA', 'BANDIPORA',\n",
              "       'BANGALORE RURAL', 'BANKA', 'BANKURA', 'BANSWARA', 'BARABANKI',\n",
              "       'BARAMULLA', 'BARAN', 'BARDHAMAN', 'BAREILLY', 'BARGARH', 'BARMER',\n",
              "       'BARNALA', 'BARPETA', 'BARWANI', 'BASTAR', 'BASTI', 'BATHINDA',\n",
              "       'BEED', 'BEGUSARAI', 'BELGAUM', 'BELLARY', 'BEMETARA',\n",
              "       'BENGALURU URBAN', 'BETUL', 'BHADRAK', 'BHAGALPUR', 'BHANDARA',\n",
              "       'BHARATPUR', 'BHARUCH', 'BHAVNAGAR', 'BHILWARA', 'BHIND',\n",
              "       'BHIWANI', 'BHOJPUR', 'BHOPAL', 'BIDAR', 'BIJAPUR', 'BIJNOR',\n",
              "       'BIKANER', 'BILASPUR', 'BIRBHUM', 'BISHNUPUR', 'BOKARO',\n",
              "       'BONGAIGAON', 'BOUDH', 'BUDAUN', 'BULANDSHAHR', 'BULDHANA',\n",
              "       'BUNDI', 'BURHANPUR', 'BUXAR', 'CACHAR', 'CHAMARAJANAGAR',\n",
              "       'CHAMBA', 'CHAMOLI', 'CHAMPAWAT', 'CHAMPHAI', 'CHANDAULI',\n",
              "       'CHANDEL', 'CHANDIGARH', 'CHANDRAPUR', 'CHANGLANG', 'CHATRA',\n",
              "       'CHHATARPUR', 'CHHINDWARA', 'CHIKBALLAPUR', 'CHIKMAGALUR',\n",
              "       'CHIRANG', 'CHITRADURGA', 'CHITRAKOOT', 'CHITTOOR', 'CHITTORGARH',\n",
              "       'CHURACHANDPUR', 'CHURU', 'COIMBATORE', 'COOCHBEHAR', 'CUDDALORE',\n",
              "       'CUTTACK', 'DADRA AND NAGAR HAVELI', 'DAKSHIN KANNAD', 'DAMOH',\n",
              "       'DANG', 'DANTEWADA', 'DARBHANGA', 'DARJEELING', 'DARRANG', 'DATIA',\n",
              "       'DAUSA', 'DAVANGERE', 'DEHRADUN', 'DEOGARH', 'DEOGHAR', 'DEORIA',\n",
              "       'DEWAS', 'DHALAI', 'DHAMTARI', 'DHANBAD', 'DHAR', 'DHARMAPURI',\n",
              "       'DHARWAD', 'DHEMAJI', 'DHENKANAL', 'DHOLPUR', 'DHUBRI', 'DHULE',\n",
              "       'DIBANG VALLEY', 'DIBRUGARH', 'DIMA HASAO', 'DIMAPUR',\n",
              "       'DINAJPUR DAKSHIN', 'DINAJPUR UTTAR', 'DINDIGUL', 'DINDORI',\n",
              "       'DODA', 'DOHAD', 'DUMKA', 'DUNGARPUR', 'DURG', 'EAST DISTRICT',\n",
              "       'EAST GARO HILLS', 'EAST GODAVARI', 'EAST JAINTIA HILLS',\n",
              "       'EAST KAMENG', 'EAST KHASI HILLS', 'EAST SIANG', 'EAST SINGHBUM',\n",
              "       'ERNAKULAM', 'ERODE', 'ETAH', 'ETAWAH', 'FAIZABAD', 'FARIDABAD',\n",
              "       'FARIDKOT', 'FARRUKHABAD', 'FATEHABAD', 'FATEHGARH SAHIB',\n",
              "       'FATEHPUR', 'FAZILKA', 'FIROZABAD', 'FIROZEPUR', 'GADAG',\n",
              "       'GADCHIROLI', 'GAJAPATI', 'GANDERBAL', 'GANDHINAGAR', 'GANGANAGAR',\n",
              "       'GANJAM', 'GARHWA', 'GARIYABAND', 'GAUTAM BUDDHA NAGAR', 'GAYA',\n",
              "       'GHAZIABAD', 'GHAZIPUR', 'GIRIDIH', 'GOALPARA', 'GODDA',\n",
              "       'GOLAGHAT', 'GOMATI', 'GONDA', 'GONDIA', 'GOPALGANJ', 'GORAKHPUR',\n",
              "       'GULBARGA', 'GUMLA', 'GUNA', 'GUNTUR', 'GURDASPUR', 'GURGAON',\n",
              "       'GWALIOR', 'HAILAKANDI', 'HAMIRPUR', 'HANUMANGARH', 'HAPUR',\n",
              "       'HARDA', 'HARDOI', 'HARIDWAR', 'HASSAN', 'HATHRAS', 'HAVERI',\n",
              "       'HAZARIBAGH', 'HINGOLI', 'HISAR', 'HOOGHLY', 'HOSHANGABAD',\n",
              "       'HOSHIARPUR', 'HOWRAH', 'HYDERABAD', 'IDUKKI', 'IMPHAL EAST',\n",
              "       'IMPHAL WEST', 'INDORE', 'JABALPUR', 'JAGATSINGHAPUR', 'JAIPUR',\n",
              "       'JAISALMER', 'JAJAPUR', 'JALANDHAR', 'JALAUN', 'JALGAON', 'JALNA',\n",
              "       'JALORE', 'JALPAIGURI', 'JAMMU', 'JAMNAGAR', 'JAMTARA', 'JAMUI',\n",
              "       'JANJGIR-CHAMPA', 'JASHPUR', 'JAUNPUR', 'JEHANABAD', 'JHABUA',\n",
              "       'JHAJJAR', 'JHALAWAR', 'JHANSI', 'JHARSUGUDA', 'JHUNJHUNU', 'JIND',\n",
              "       'JODHPUR', 'JORHAT', 'JUNAGADH', 'KABIRDHAM', 'KACHCHH', 'KADAPA',\n",
              "       'KAIMUR (BHABUA)', 'KAITHAL', 'KALAHANDI', 'KAMRUP',\n",
              "       'KAMRUP METRO', 'KANCHIPURAM', 'KANDHAMAL', 'KANGRA', 'KANKER',\n",
              "       'KANNAUJ', 'KANNIYAKUMARI', 'KANNUR', 'KANPUR DEHAT',\n",
              "       'KANPUR NAGAR', 'KAPURTHALA', 'KARAIKAL', 'KARAULI',\n",
              "       'KARBI ANGLONG', 'KARGIL', 'KARIMGANJ', 'KARIMNAGAR', 'KARNAL',\n",
              "       'KARUR', 'KASARAGOD', 'KASGANJ', 'KATHUA', 'KATIHAR', 'KATNI',\n",
              "       'KAUSHAMBI', 'KENDRAPARA', 'KENDUJHAR', 'KHAGARIA', 'KHAMMAM',\n",
              "       'KHANDWA', 'KHARGONE', 'KHEDA', 'KHERI', 'KHORDHA', 'KHOWAI',\n",
              "       'KHUNTI', 'KINNAUR', 'KIPHIRE', 'KISHANGANJ', 'KISHTWAR', 'KODAGU',\n",
              "       'KODERMA', 'KOHIMA', 'KOKRAJHAR', 'KOLAR', 'KOLASIB', 'KOLHAPUR',\n",
              "       'KOLLAM', 'KONDAGAON', 'KOPPAL', 'KORAPUT', 'KORBA', 'KOREA',\n",
              "       'KOTA', 'KOTTAYAM', 'KOZHIKODE', 'KRISHNA', 'KRISHNAGIRI',\n",
              "       'KULGAM', 'KULLU', 'KUPWARA', 'KURNOOL', 'KURUKSHETRA',\n",
              "       'KURUNG KUMEY', 'KUSHI NAGAR', 'LAHUL AND SPITI', 'LAKHIMPUR',\n",
              "       'LAKHISARAI', 'LALITPUR', 'LATEHAR', 'LATUR', 'LAWNGTLAI',\n",
              "       'LEH LADAKH', 'LOHARDAGA', 'LOHIT', 'LONGDING', 'LONGLENG',\n",
              "       'LOWER DIBANG VALLEY', 'LOWER SUBANSIRI', 'LUCKNOW', 'LUDHIANA',\n",
              "       'LUNGLEI', 'MADHEPURA', 'MADHUBANI', 'MADURAI', 'MAHARAJGANJ',\n",
              "       'MAHASAMUND', 'MAHBUBNAGAR', 'MAHE', 'MAHENDRAGARH', 'MAHESANA',\n",
              "       'MAHOBA', 'MAINPURI', 'MALAPPURAM', 'MALDAH', 'MALKANGIRI',\n",
              "       'MAMIT', 'MANDI', 'MANDLA', 'MANDSAUR', 'MANDYA', 'MANSA',\n",
              "       'MARIGAON', 'MATHURA', 'MAU', 'MAYURBHANJ', 'MEDAK',\n",
              "       'MEDINIPUR EAST', 'MEDINIPUR WEST', 'MEERUT', 'MEWAT', 'MIRZAPUR',\n",
              "       'MOGA', 'MOKOKCHUNG', 'MON', 'MORADABAD', 'MORENA', 'MUKTSAR',\n",
              "       'MUMBAI', 'MUNGELI', 'MUNGER', 'MURSHIDABAD', 'MUZAFFARNAGAR',\n",
              "       'MUZAFFARPUR', 'MYSORE', 'NABARANGPUR', 'NADIA', 'NAGAON',\n",
              "       'NAGAPATTINAM', 'NAGAUR', 'NAGPUR', 'NAINITAL', 'NALANDA',\n",
              "       'NALBARI', 'NALGONDA', 'NAMAKKAL', 'NAMSAI', 'NANDED', 'NANDURBAR',\n",
              "       'NARAYANPUR', 'NARMADA', 'NARSINGHPUR', 'NASHIK', 'NAVSARI',\n",
              "       'NAWADA', 'NAWANSHAHR', 'NAYAGARH', 'NEEMUCH', 'NICOBARS',\n",
              "       'NIZAMABAD', 'NORTH AND MIDDLE ANDAMAN', 'NORTH DISTRICT',\n",
              "       'NORTH GARO HILLS', 'NORTH GOA', 'NORTH TRIPURA', 'NUAPADA',\n",
              "       'OSMANABAD', 'PAKUR', 'PALAKKAD', 'PALAMU', 'PALGHAR', 'PALI',\n",
              "       'PALWAL', 'PANCH MAHALS', 'PANCHKULA', 'PANIPAT', 'PANNA',\n",
              "       'PAPUM PARE', 'PARBHANI', 'PASHCHIM CHAMPARAN', 'PATAN',\n",
              "       'PATHANAMTHITTA', 'PATHANKOT', 'PATIALA', 'PATNA', 'PAURI GARHWAL',\n",
              "       'PERAMBALUR', 'PEREN', 'PHEK', 'PILIBHIT', 'PITHORAGARH',\n",
              "       'PONDICHERRY', 'POONCH', 'PORBANDAR', 'PRAKASAM', 'PRATAPGARH',\n",
              "       'PUDUKKOTTAI', 'PULWAMA', 'PUNE', 'PURBI CHAMPARAN', 'PURI',\n",
              "       'PURNIA', 'PURULIA', 'RAE BARELI', 'RAICHUR', 'RAIGAD', 'RAIGARH',\n",
              "       'RAIPUR', 'RAISEN', 'RAJAURI', 'RAJGARH', 'RAJKOT', 'RAJNANDGAON',\n",
              "       'RAJSAMAND', 'RAMANAGARA', 'RAMANATHAPURAM', 'RAMBAN', 'RAMGARH',\n",
              "       'RAMPUR', 'RANCHI', 'RANGAREDDI', 'RATLAM', 'RATNAGIRI',\n",
              "       'RAYAGADA', 'REASI', 'REWA', 'REWARI', 'RI BHOI', 'ROHTAK',\n",
              "       'ROHTAS', 'RUDRA PRAYAG', 'RUPNAGAR', 'S.A.S NAGAR',\n",
              "       'SABAR KANTHA', 'SAGAR', 'SAHARANPUR', 'SAHARSA', 'SAHEBGANJ',\n",
              "       'SAIHA', 'SALEM', 'SAMASTIPUR', 'SAMBA', 'SAMBALPUR', 'SAMBHAL',\n",
              "       'SANGLI', 'SANGRUR', 'SANT KABEER NAGAR', 'SANT RAVIDAS NAGAR',\n",
              "       'SARAIKELA KHARSAWAN', 'SARAN', 'SATARA', 'SATNA',\n",
              "       'SAWAI MADHOPUR', 'SEHORE', 'SENAPATI', 'SEONI', 'SEPAHIJALA',\n",
              "       'SERCHHIP', 'SHAHDOL', 'SHAHJAHANPUR', 'SHAJAPUR', 'SHAMLI',\n",
              "       'SHEIKHPURA', 'SHEOHAR', 'SHEOPUR', 'SHIMLA', 'SHIMOGA',\n",
              "       'SHIVPURI', 'SHOPIAN', 'SHRAVASTI', 'SIDDHARTH NAGAR', 'SIDHI',\n",
              "       'SIKAR', 'SIMDEGA', 'SINDHUDURG', 'SINGRAULI', 'SIRMAUR', 'SIROHI',\n",
              "       'SIRSA', 'SITAMARHI', 'SITAPUR', 'SIVAGANGA', 'SIVASAGAR', 'SIWAN',\n",
              "       'SOLAN', 'SOLAPUR', 'SONBHADRA', 'SONEPUR', 'SONIPAT', 'SONITPUR',\n",
              "       'SOUTH ANDAMANS', 'SOUTH DISTRICT', 'SOUTH GARO HILLS',\n",
              "       'SOUTH GOA', 'SOUTH TRIPURA', 'SOUTH WEST GARO HILLS',\n",
              "       'SOUTH WEST KHASI HILLS', 'SPSR NELLORE', 'SRIKAKULAM', 'SRINAGAR',\n",
              "       'SUKMA', 'SULTANPUR', 'SUNDARGARH', 'SUPAUL', 'SURAJPUR', 'SURAT',\n",
              "       'SURENDRANAGAR', 'SURGUJA', 'TAMENGLONG', 'TAPI', 'TARN TARAN',\n",
              "       'TAWANG', 'TEHRI GARHWAL', 'THANE', 'THANJAVUR', 'THE NILGIRIS',\n",
              "       'THENI', 'THIRUVALLUR', 'THIRUVANANTHAPURAM', 'THIRUVARUR',\n",
              "       'THOUBAL', 'THRISSUR', 'TIKAMGARH', 'TINSUKIA', 'TIRAP',\n",
              "       'TIRUCHIRAPPALLI', 'TIRUNELVELI', 'TIRUPPUR', 'TIRUVANNAMALAI',\n",
              "       'TONK', 'TUENSANG', 'TUMKUR', 'TUTICORIN', 'UDAIPUR', 'UDALGURI',\n",
              "       'UDAM SINGH NAGAR', 'UDHAMPUR', 'UDUPI', 'UJJAIN', 'UKHRUL',\n",
              "       'UMARIA', 'UNA', 'UNAKOTI', 'UNNAO', 'UPPER SIANG',\n",
              "       'UPPER SUBANSIRI', 'UTTAR KANNAD', 'UTTAR KASHI', 'VADODARA',\n",
              "       'VAISHALI', 'VALSAD', 'VARANASI', 'VELLORE', 'VIDISHA',\n",
              "       'VILLUPURAM', 'VIRUDHUNAGAR', 'VISAKHAPATANAM', 'VIZIANAGARAM',\n",
              "       'WARANGAL', 'WARDHA', 'WASHIM', 'WAYANAD', 'WEST DISTRICT',\n",
              "       'WEST GARO HILLS', 'WEST GODAVARI', 'WEST JAINTIA HILLS',\n",
              "       'WEST KAMENG', 'WEST KHASI HILLS', 'WEST SIANG', 'WEST SINGHBHUM',\n",
              "       'WEST TRIPURA', 'WOKHA', 'YADGIR', 'YAMUNANAGAR', 'YANAM',\n",
              "       'YAVATMAL', 'ZUNHEBOTO'], dtype=object)"
            ]
          },
          "metadata": {
            "tags": []
          },
          "execution_count": 39
        }
      ]
    },
    {
      "cell_type": "code",
      "metadata": {
        "id": "ECM1OSO4oXBR",
        "colab_type": "code",
        "colab": {}
      },
      "source": [
        "df=pd.DataFrame(District)\n",
        "df.to_csv('/gdrive/My Drive//SEMVII/mp/district.csv',index=False)   #save district.csv to drive"
      ],
      "execution_count": null,
      "outputs": []
    },
    {
      "cell_type": "code",
      "metadata": {
        "id": "w_Wv6KAUsknt",
        "colab_type": "code",
        "colab": {
          "base_uri": "https://localhost:8080/",
          "height": 323
        },
        "outputId": "d1b5d9db-eb4c-465c-b852-b46e3110084b"
      },
      "source": [
        "crop=train.Crop.unique()\n",
        "print(crop)\n",
        "crop.shape"
      ],
      "execution_count": null,
      "outputs": [
        {
          "output_type": "stream",
          "text": [
            "['Arecanut' 'Rice' 'Banana' 'Cashewnut' 'Dry ginger' 'Sugarcane'\n",
            " 'Sweet potato' 'Tapioca' 'Black pepper' 'Dry chillies' 'Turmeric' 'Maize'\n",
            " 'Moong(Green Gram)' 'Urad' 'Arhar/Tur' 'Groundnut' 'Sunflower' 'Bajra'\n",
            " 'Castor seed' 'Cotton(lint)' 'Horse-gram' 'Jowar' 'Korra' 'Ragi'\n",
            " 'Tobacco' 'Gram' 'Wheat' 'Masoor' 'Sesamum' 'Linseed' 'Safflower' 'Onion'\n",
            " 'Samai' 'Small millets' 'Coriander' 'Potato' 'Beans & Mutter(Vegetable)'\n",
            " 'Bhindi' 'Brinjal' 'Citrus Fruit' 'Grapes' 'Mango' 'Orange' 'Papaya'\n",
            " 'Pome Fruit' 'Tomato' 'Soyabean' 'Mesta' 'Cowpea(Lobia)' 'Lemon'\n",
            " 'Pome Granet' 'Sapota' 'Cabbage' 'Rapeseed &Mustard' 'Niger seed'\n",
            " 'Varagu' 'Garlic' 'Ginger' 'Oilseeds total' 'Pulses total' 'Jute'\n",
            " 'Peas & beans (Pulses)' 'Blackgram' 'Paddy' 'Pineapple' 'Barley'\n",
            " 'Sannhamp' 'Khesari' 'Guar seed' 'Moth' 'Turnip' 'Carrot' 'Redish'\n",
            " 'Arcanut (Processed)' 'Atcanut (Raw)' 'Cashewnut Processed'\n",
            " 'Cashewnut Raw' 'Cardamom' 'Rubber' 'Drum Stick' 'Jack Fruit' 'Coffee'\n",
            " 'Tea' 'Total foodgrain' 'Cauliflower' 'Bitter Gourd' 'Bottle Gourd'\n",
            " 'Kapas' 'Colocosia' 'Lentil' 'Bean' 'Jobster' 'Perilla' 'Rajmash Kholar'\n",
            " 'Ricebean (nagadal)' 'Jute & mesta']\n"
          ],
          "name": "stdout"
        },
        {
          "output_type": "execute_result",
          "data": {
            "text/plain": [
              "(96,)"
            ]
          },
          "metadata": {
            "tags": []
          },
          "execution_count": 21
        }
      ]
    },
    {
      "cell_type": "code",
      "metadata": {
        "id": "VIfumSof5Gan",
        "colab_type": "code",
        "colab": {
          "base_uri": "https://localhost:8080/",
          "height": 357
        },
        "outputId": "b21f984a-dac7-4324-aa71-ae56d3a3407c"
      },
      "source": [
        "crop.sort()\n",
        "crop"
      ],
      "execution_count": null,
      "outputs": [
        {
          "output_type": "execute_result",
          "data": {
            "text/plain": [
              "array(['Arcanut (Processed)', 'Arecanut', 'Arhar/Tur', 'Atcanut (Raw)',\n",
              "       'Bajra', 'Banana', 'Barley', 'Bean', 'Beans & Mutter(Vegetable)',\n",
              "       'Bhindi', 'Bitter Gourd', 'Black pepper', 'Blackgram',\n",
              "       'Bottle Gourd', 'Brinjal', 'Cabbage', 'Cardamom', 'Carrot',\n",
              "       'Cashewnut', 'Cashewnut Processed', 'Cashewnut Raw', 'Castor seed',\n",
              "       'Cauliflower', 'Citrus Fruit', 'Coffee', 'Colocosia', 'Coriander',\n",
              "       'Cotton(lint)', 'Cowpea(Lobia)', 'Drum Stick', 'Dry chillies',\n",
              "       'Dry ginger', 'Garlic', 'Ginger', 'Gram', 'Grapes', 'Groundnut',\n",
              "       'Guar seed', 'Horse-gram', 'Jack Fruit', 'Jobster', 'Jowar',\n",
              "       'Jute', 'Jute & mesta', 'Kapas', 'Khesari', 'Korra', 'Lemon',\n",
              "       'Lentil', 'Linseed', 'Maize', 'Mango', 'Masoor', 'Mesta',\n",
              "       'Moong(Green Gram)', 'Moth', 'Niger seed', 'Oilseeds total',\n",
              "       'Onion', 'Orange', 'Paddy', 'Papaya', 'Peas & beans (Pulses)',\n",
              "       'Perilla', 'Pineapple', 'Pome Fruit', 'Pome Granet', 'Potato',\n",
              "       'Pulses total', 'Ragi', 'Rajmash Kholar', 'Rapeseed &Mustard',\n",
              "       'Redish', 'Rice', 'Ricebean (nagadal)', 'Rubber', 'Safflower',\n",
              "       'Samai', 'Sannhamp', 'Sapota', 'Sesamum', 'Small millets',\n",
              "       'Soyabean', 'Sugarcane', 'Sunflower', 'Sweet potato', 'Tapioca',\n",
              "       'Tea', 'Tobacco', 'Tomato', 'Total foodgrain', 'Turmeric',\n",
              "       'Turnip', 'Urad', 'Varagu', 'Wheat'], dtype=object)"
            ]
          },
          "metadata": {
            "tags": []
          },
          "execution_count": 41
        }
      ]
    },
    {
      "cell_type": "code",
      "metadata": {
        "id": "LdVcixzqskmO",
        "colab_type": "code",
        "colab": {}
      },
      "source": [
        "df=pd.DataFrame(crop)\n",
        "df.to_csv('/gdrive/My Drive//SEMVII/mp/crop.csv',index=False) #save crop.csv to drive"
      ],
      "execution_count": null,
      "outputs": []
    },
    {
      "cell_type": "code",
      "metadata": {
        "id": "-vSKIc4ptmAD",
        "colab_type": "code",
        "colab": {}
      },
      "source": [
        "season=train.Season.unique()\n",
        "print(season)"
      ],
      "execution_count": null,
      "outputs": []
    },
    {
      "cell_type": "code",
      "metadata": {
        "id": "oN4d1Jf65gGq",
        "colab_type": "code",
        "colab": {
          "base_uri": "https://localhost:8080/",
          "height": 51
        },
        "outputId": "028eaed8-2e3a-4938-c9e1-a2f404aea837"
      },
      "source": [
        "season.sort()\n",
        "season"
      ],
      "execution_count": null,
      "outputs": [
        {
          "output_type": "execute_result",
          "data": {
            "text/plain": [
              "array(['Autumn     ', 'Kharif     ', 'Rabi       ', 'Summer     ',\n",
              "       'Whole Year ', 'Winter     '], dtype=object)"
            ]
          },
          "metadata": {
            "tags": []
          },
          "execution_count": 44
        }
      ]
    },
    {
      "cell_type": "code",
      "metadata": {
        "id": "vttz5RX3tl-U",
        "colab_type": "code",
        "colab": {}
      },
      "source": [
        "df=pd.DataFrame(season)\n",
        "df.to_csv('/gdrive/My Drive//SEMVII/mp/season.csv',index=False,) #save season.csv to drive"
      ],
      "execution_count": null,
      "outputs": []
    },
    {
      "cell_type": "code",
      "metadata": {
        "id": "UJapJIwhvFRi",
        "colab_type": "code",
        "colab": {
          "base_uri": "https://localhost:8080/",
          "height": 419
        },
        "outputId": "0a51c76f-80ce-4b14-f038-e1092a228f2b"
      },
      "source": [
        "data=pd.read_csv('/gdrive/My Drive//SEMVII/mp/crop.csv')\n",
        "data"
      ],
      "execution_count": null,
      "outputs": [
        {
          "output_type": "execute_result",
          "data": {
            "text/html": [
              "<div>\n",
              "<style scoped>\n",
              "    .dataframe tbody tr th:only-of-type {\n",
              "        vertical-align: middle;\n",
              "    }\n",
              "\n",
              "    .dataframe tbody tr th {\n",
              "        vertical-align: top;\n",
              "    }\n",
              "\n",
              "    .dataframe thead th {\n",
              "        text-align: right;\n",
              "    }\n",
              "</style>\n",
              "<table border=\"1\" class=\"dataframe\">\n",
              "  <thead>\n",
              "    <tr style=\"text-align: right;\">\n",
              "      <th></th>\n",
              "      <th>0</th>\n",
              "    </tr>\n",
              "  </thead>\n",
              "  <tbody>\n",
              "    <tr>\n",
              "      <th>0</th>\n",
              "      <td>Arcanut (Processed)</td>\n",
              "    </tr>\n",
              "    <tr>\n",
              "      <th>1</th>\n",
              "      <td>Arecanut</td>\n",
              "    </tr>\n",
              "    <tr>\n",
              "      <th>2</th>\n",
              "      <td>Arhar/Tur</td>\n",
              "    </tr>\n",
              "    <tr>\n",
              "      <th>3</th>\n",
              "      <td>Atcanut (Raw)</td>\n",
              "    </tr>\n",
              "    <tr>\n",
              "      <th>4</th>\n",
              "      <td>Bajra</td>\n",
              "    </tr>\n",
              "    <tr>\n",
              "      <th>...</th>\n",
              "      <td>...</td>\n",
              "    </tr>\n",
              "    <tr>\n",
              "      <th>91</th>\n",
              "      <td>Turmeric</td>\n",
              "    </tr>\n",
              "    <tr>\n",
              "      <th>92</th>\n",
              "      <td>Turnip</td>\n",
              "    </tr>\n",
              "    <tr>\n",
              "      <th>93</th>\n",
              "      <td>Urad</td>\n",
              "    </tr>\n",
              "    <tr>\n",
              "      <th>94</th>\n",
              "      <td>Varagu</td>\n",
              "    </tr>\n",
              "    <tr>\n",
              "      <th>95</th>\n",
              "      <td>Wheat</td>\n",
              "    </tr>\n",
              "  </tbody>\n",
              "</table>\n",
              "<p>96 rows × 1 columns</p>\n",
              "</div>"
            ],
            "text/plain": [
              "                      0\n",
              "0   Arcanut (Processed)\n",
              "1              Arecanut\n",
              "2             Arhar/Tur\n",
              "3         Atcanut (Raw)\n",
              "4                 Bajra\n",
              "..                  ...\n",
              "91             Turmeric\n",
              "92               Turnip\n",
              "93                 Urad\n",
              "94               Varagu\n",
              "95                Wheat\n",
              "\n",
              "[96 rows x 1 columns]"
            ]
          },
          "metadata": {
            "tags": []
          },
          "execution_count": 48
        }
      ]
    },
    {
      "cell_type": "code",
      "metadata": {
        "id": "ZKyoRkFN2YKg",
        "colab_type": "code",
        "colab": {
          "base_uri": "https://localhost:8080/",
          "height": 419
        },
        "outputId": "bf3ffde9-cdfd-41d1-ce73-80050bdf3d79"
      },
      "source": [
        "df=pd.DataFrame(train)\n",
        "df=df.drop_duplicates(subset=\"District_Name\")\n",
        "df.to_csv('/gdrive/My Drive//SEMVII/mp/statewithdistrict.csv',index=False) #save statewithdistrict.csv to drive\n",
        "df"
      ],
      "execution_count": null,
      "outputs": [
        {
          "output_type": "execute_result",
          "data": {
            "text/html": [
              "<div>\n",
              "<style scoped>\n",
              "    .dataframe tbody tr th:only-of-type {\n",
              "        vertical-align: middle;\n",
              "    }\n",
              "\n",
              "    .dataframe tbody tr th {\n",
              "        vertical-align: top;\n",
              "    }\n",
              "\n",
              "    .dataframe thead th {\n",
              "        text-align: right;\n",
              "    }\n",
              "</style>\n",
              "<table border=\"1\" class=\"dataframe\">\n",
              "  <thead>\n",
              "    <tr style=\"text-align: right;\">\n",
              "      <th></th>\n",
              "      <th>State_Name</th>\n",
              "      <th>District_Name</th>\n",
              "      <th>Crop_Year</th>\n",
              "      <th>Season</th>\n",
              "      <th>Crop</th>\n",
              "      <th>Area</th>\n",
              "      <th>Production</th>\n",
              "    </tr>\n",
              "  </thead>\n",
              "  <tbody>\n",
              "    <tr>\n",
              "      <th>0</th>\n",
              "      <td>Andaman and Nicobar Islands</td>\n",
              "      <td>NICOBARS</td>\n",
              "      <td>2000</td>\n",
              "      <td>Kharif</td>\n",
              "      <td>Arecanut</td>\n",
              "      <td>1254.0</td>\n",
              "      <td>2000.00</td>\n",
              "    </tr>\n",
              "    <tr>\n",
              "      <th>65</th>\n",
              "      <td>Andaman and Nicobar Islands</td>\n",
              "      <td>NORTH AND MIDDLE ANDAMAN</td>\n",
              "      <td>2000</td>\n",
              "      <td>Kharif</td>\n",
              "      <td>Arecanut</td>\n",
              "      <td>3100.0</td>\n",
              "      <td>5200.00</td>\n",
              "    </tr>\n",
              "    <tr>\n",
              "      <th>107</th>\n",
              "      <td>Andaman and Nicobar Islands</td>\n",
              "      <td>SOUTH ANDAMANS</td>\n",
              "      <td>2002</td>\n",
              "      <td>Kharif</td>\n",
              "      <td>Rice</td>\n",
              "      <td>10695.8</td>\n",
              "      <td>31600.82</td>\n",
              "    </tr>\n",
              "    <tr>\n",
              "      <th>170</th>\n",
              "      <td>Andhra Pradesh</td>\n",
              "      <td>ANANTAPUR</td>\n",
              "      <td>1997</td>\n",
              "      <td>Kharif</td>\n",
              "      <td>Arhar/Tur</td>\n",
              "      <td>21400.0</td>\n",
              "      <td>2600.00</td>\n",
              "    </tr>\n",
              "    <tr>\n",
              "      <th>914</th>\n",
              "      <td>Andhra Pradesh</td>\n",
              "      <td>CHITTOOR</td>\n",
              "      <td>1997</td>\n",
              "      <td>Kharif</td>\n",
              "      <td>Arhar/Tur</td>\n",
              "      <td>6100.0</td>\n",
              "      <td>900.00</td>\n",
              "    </tr>\n",
              "    <tr>\n",
              "      <th>...</th>\n",
              "      <td>...</td>\n",
              "      <td>...</td>\n",
              "      <td>...</td>\n",
              "      <td>...</td>\n",
              "      <td>...</td>\n",
              "      <td>...</td>\n",
              "      <td>...</td>\n",
              "    </tr>\n",
              "    <tr>\n",
              "      <th>230923</th>\n",
              "      <td>West Bengal</td>\n",
              "      <td>MEDINIPUR EAST</td>\n",
              "      <td>1997</td>\n",
              "      <td>Autumn</td>\n",
              "      <td>Rice</td>\n",
              "      <td>15791.0</td>\n",
              "      <td>39560.00</td>\n",
              "    </tr>\n",
              "    <tr>\n",
              "      <th>231257</th>\n",
              "      <td>West Bengal</td>\n",
              "      <td>MEDINIPUR WEST</td>\n",
              "      <td>1997</td>\n",
              "      <td>Autumn</td>\n",
              "      <td>Rice</td>\n",
              "      <td>55288.0</td>\n",
              "      <td>105780.00</td>\n",
              "    </tr>\n",
              "    <tr>\n",
              "      <th>231862</th>\n",
              "      <td>West Bengal</td>\n",
              "      <td>MURSHIDABAD</td>\n",
              "      <td>1997</td>\n",
              "      <td>Autumn</td>\n",
              "      <td>Rice</td>\n",
              "      <td>43480.0</td>\n",
              "      <td>65000.00</td>\n",
              "    </tr>\n",
              "    <tr>\n",
              "      <th>232438</th>\n",
              "      <td>West Bengal</td>\n",
              "      <td>NADIA</td>\n",
              "      <td>1997</td>\n",
              "      <td>Autumn</td>\n",
              "      <td>Rice</td>\n",
              "      <td>55567.0</td>\n",
              "      <td>98910.00</td>\n",
              "    </tr>\n",
              "    <tr>\n",
              "      <th>233001</th>\n",
              "      <td>West Bengal</td>\n",
              "      <td>PURULIA</td>\n",
              "      <td>1997</td>\n",
              "      <td>Autumn</td>\n",
              "      <td>Ragi</td>\n",
              "      <td>197.0</td>\n",
              "      <td>67.00</td>\n",
              "    </tr>\n",
              "  </tbody>\n",
              "</table>\n",
              "<p>646 rows × 7 columns</p>\n",
              "</div>"
            ],
            "text/plain": [
              "                         State_Name  ... Production\n",
              "0       Andaman and Nicobar Islands  ...    2000.00\n",
              "65      Andaman and Nicobar Islands  ...    5200.00\n",
              "107     Andaman and Nicobar Islands  ...   31600.82\n",
              "170                  Andhra Pradesh  ...    2600.00\n",
              "914                  Andhra Pradesh  ...     900.00\n",
              "...                             ...  ...        ...\n",
              "230923                  West Bengal  ...   39560.00\n",
              "231257                  West Bengal  ...  105780.00\n",
              "231862                  West Bengal  ...   65000.00\n",
              "232438                  West Bengal  ...   98910.00\n",
              "233001                  West Bengal  ...      67.00\n",
              "\n",
              "[646 rows x 7 columns]"
            ]
          },
          "metadata": {
            "tags": []
          },
          "execution_count": 37
        }
      ]
    },
    {
      "cell_type": "code",
      "metadata": {
        "id": "pCsufZjHunNt",
        "colab_type": "code",
        "colab": {
          "base_uri": "https://localhost:8080/",
          "height": 419
        },
        "outputId": "7dce5b9a-e5de-4e76-c6ba-8d337bacb6a4"
      },
      "source": [
        "df=pd.DataFrame(train)\n",
        "df=df.drop_duplicates(subset=\"Crop\")\n",
        "df=df.drop('State_Name',axis=1)\n",
        "df=df.drop('District_Name',axis=1)\n",
        "df=df.drop('Area',axis=1)\n",
        "df=df.drop('Crop_Year',axis=1)\n",
        "df=df.drop('Production',axis=1)\n",
        "df=df.sort_values(by=['Season','Crop'],axis=0)\n",
        "df.to_csv('/gdrive/My Drive//SEMVII/mp/seasonwisecrop.csv',index=False)\n",
        "df"
      ],
      "execution_count": null,
      "outputs": [
        {
          "output_type": "execute_result",
          "data": {
            "text/html": [
              "<div>\n",
              "<style scoped>\n",
              "    .dataframe tbody tr th:only-of-type {\n",
              "        vertical-align: middle;\n",
              "    }\n",
              "\n",
              "    .dataframe tbody tr th {\n",
              "        vertical-align: top;\n",
              "    }\n",
              "\n",
              "    .dataframe thead th {\n",
              "        text-align: right;\n",
              "    }\n",
              "</style>\n",
              "<table border=\"1\" class=\"dataframe\">\n",
              "  <thead>\n",
              "    <tr style=\"text-align: right;\">\n",
              "      <th></th>\n",
              "      <th>Season</th>\n",
              "      <th>Crop</th>\n",
              "    </tr>\n",
              "  </thead>\n",
              "  <tbody>\n",
              "    <tr>\n",
              "      <th>12028</th>\n",
              "      <td>Autumn</td>\n",
              "      <td>Paddy</td>\n",
              "    </tr>\n",
              "    <tr>\n",
              "      <th>0</th>\n",
              "      <td>Kharif</td>\n",
              "      <td>Arecanut</td>\n",
              "    </tr>\n",
              "    <tr>\n",
              "      <th>171</th>\n",
              "      <td>Kharif</td>\n",
              "      <td>Bajra</td>\n",
              "    </tr>\n",
              "    <tr>\n",
              "      <th>134633</th>\n",
              "      <td>Kharif</td>\n",
              "      <td>Bean</td>\n",
              "    </tr>\n",
              "    <tr>\n",
              "      <th>791</th>\n",
              "      <td>Kharif</td>\n",
              "      <td>Cabbage</td>\n",
              "    </tr>\n",
              "    <tr>\n",
              "      <th>...</th>\n",
              "      <td>...</td>\n",
              "      <td>...</td>\n",
              "    </tr>\n",
              "    <tr>\n",
              "      <th>7</th>\n",
              "      <td>Whole Year</td>\n",
              "      <td>Tapioca</td>\n",
              "    </tr>\n",
              "    <tr>\n",
              "      <th>92182</th>\n",
              "      <td>Whole Year</td>\n",
              "      <td>Tea</td>\n",
              "    </tr>\n",
              "    <tr>\n",
              "      <th>391</th>\n",
              "      <td>Whole Year</td>\n",
              "      <td>Tomato</td>\n",
              "    </tr>\n",
              "    <tr>\n",
              "      <th>40</th>\n",
              "      <td>Whole Year</td>\n",
              "      <td>Turmeric</td>\n",
              "    </tr>\n",
              "    <tr>\n",
              "      <th>69616</th>\n",
              "      <td>Whole Year</td>\n",
              "      <td>Turnip</td>\n",
              "    </tr>\n",
              "  </tbody>\n",
              "</table>\n",
              "<p>96 rows × 2 columns</p>\n",
              "</div>"
            ],
            "text/plain": [
              "             Season      Crop\n",
              "12028   Autumn          Paddy\n",
              "0       Kharif       Arecanut\n",
              "171     Kharif          Bajra\n",
              "134633  Kharif           Bean\n",
              "791     Kharif        Cabbage\n",
              "...             ...       ...\n",
              "7       Whole Year    Tapioca\n",
              "92182   Whole Year        Tea\n",
              "391     Whole Year     Tomato\n",
              "40      Whole Year   Turmeric\n",
              "69616   Whole Year     Turnip\n",
              "\n",
              "[96 rows x 2 columns]"
            ]
          },
          "metadata": {
            "tags": []
          },
          "execution_count": 20
        }
      ]
    }
  ]
}