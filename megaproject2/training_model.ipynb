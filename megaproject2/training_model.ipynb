{
  "nbformat": 4,
  "nbformat_minor": 0,
  "metadata": {
    "colab": {
      "name": "training_model2.ipynb",
      "provenance": [],
      "private_outputs": true,
      "collapsed_sections": []
    },
    "kernelspec": {
      "name": "python3",
      "display_name": "Python 3"
    },
    "accelerator": "GPU"
  },
  "cells": [
    {
      "cell_type": "code",
      "metadata": {
        "id": "aPNi5ovFTBuP",
        "colab_type": "code",
        "colab": {}
      },
      "source": [
        "from google.colab import drive\n",
        "drive.mount('/gdrive')"
      ],
      "execution_count": null,
      "outputs": []
    },
    {
      "cell_type": "code",
      "metadata": {
        "id": "0yrXq9Pm7R-b",
        "colab_type": "code",
        "colab": {}
      },
      "source": [
        "%tensorflow_version 1.x\n",
        "import tensorflow as tf\n",
        "\n",
        "import keras  \n",
        "from keras import models\n",
        "from keras import optimizers\n",
        "from keras.layers import Conv1D,Flatten,AveragePooling1D,Dense,Embedding,Reshape,Input,Concatenate\n",
        "from keras.models import model_from_json\n",
        "\n",
        "import pandas as pd\n",
        "import numpy as np"
      ],
      "execution_count": null,
      "outputs": []
    },
    {
      "cell_type": "code",
      "metadata": {
        "id": "_uTB2aeB73gY",
        "colab_type": "code",
        "colab": {}
      },
      "source": [
        "train=pd.read_csv('/gdrive/My Drive/Colab Notebooks/megaproject2/train.csv') #load the  training dataset\n",
        "test=pd.read_csv('/gdrive/My Drive/Colab Notebooks/megaproject2/test.csv') #load the test dataset\n"
      ],
      "execution_count": null,
      "outputs": []
    },
    {
      "cell_type": "markdown",
      "metadata": {
        "id": "JNOkkGej8j2J",
        "colab_type": "text"
      },
      "source": [
        "Normalization"
      ]
    },
    {
      "cell_type": "code",
      "metadata": {
        "id": "wJOtb29ivC6_",
        "colab_type": "code",
        "colab": {}
      },
      "source": [
        "'''normalization for train'''\n",
        "cols_to_norm = ['Crop_Year']\n",
        "meanyear = train[cols_to_norm].mean()\n",
        "stdyear = train[cols_to_norm].std()\n",
        "train[cols_to_norm] -= meanyear\n",
        "train[cols_to_norm] /=stdyear\n",
        "\n",
        "\n",
        "cols_to_norm = ['Area']\n",
        "meanarea = train[cols_to_norm].mean()\n",
        "stdarea = train[cols_to_norm].std()\n",
        "train[cols_to_norm] -= meanarea\n",
        "train[cols_to_norm] /=stdarea\n",
        "\n",
        "cols_to_norm = ['Production']\n",
        "meanprod = train[cols_to_norm].mean()\n",
        "stdprod = train[cols_to_norm].std()\n",
        "train[cols_to_norm] -= meanprod\n",
        "train[cols_to_norm] /=stdprod\n",
        "\n",
        "'''normalization option for test'''\n",
        "cols_to_norm = ['Crop_Year']\n",
        "test[cols_to_norm] -= meanyear\n",
        "test[cols_to_norm] /=stdyear\n",
        "\n",
        "\n",
        "cols_to_norm = ['Area']\n",
        "test[cols_to_norm] -= meanarea\n",
        "test[cols_to_norm] /=stdarea\n",
        "\n",
        "cols_to_norm = ['Production']\n",
        "test[cols_to_norm] -= meanprod\n",
        "test[cols_to_norm] /=stdprod"
      ],
      "execution_count": null,
      "outputs": []
    },
    {
      "cell_type": "code",
      "metadata": {
        "id": "x94I5uPT9s1i",
        "colab_type": "code",
        "colab": {}
      },
      "source": [
        "train=train.astype(dtype='float32')\n",
        "test=test.astype(dtype='float32')"
      ],
      "execution_count": null,
      "outputs": []
    },
    {
      "cell_type": "markdown",
      "metadata": {
        "id": "gc0mBFPuaFPc",
        "colab_type": "text"
      },
      "source": [
        "classify"
      ]
    },
    {
      "cell_type": "code",
      "metadata": {
        "id": "jsS_sBUuEn4X",
        "colab_type": "code",
        "colab": {}
      },
      "source": [
        "district=train['District_Name'].values\n",
        "year=train['Crop_Year'].values\n",
        "season=train['Season'].values\n",
        "crop=train['Crop'].values\n",
        "area=train['Area'].values\n",
        "\n",
        "district1=test['District_Name'].values\n",
        "year1=test['Crop_Year'].values\n",
        "season1=test['Season'].values\n",
        "crop1=test['Crop'].values\n",
        "area1=test['Area'].values"
      ],
      "execution_count": null,
      "outputs": []
    },
    {
      "cell_type": "code",
      "metadata": {
        "id": "lY57VsPIlQHd",
        "colab_type": "code",
        "colab": {}
      },
      "source": [
        "y_train=train['Production'].values\n",
        "y_test=test['Production'].values"
      ],
      "execution_count": null,
      "outputs": []
    },
    {
      "cell_type": "code",
      "metadata": {
        "id": "8ihwcR0To_Vv",
        "colab_type": "code",
        "colab": {}
      },
      "source": [
        "year_input = Input(shape=(1,),dtype='float32',name='year_input') #input layer for year data\n",
        "year_output=Reshape(target_shape=(1,))(year_input)\n",
        "\n",
        "area_input = Input(shape=(1,),dtype='float32',name='area_input') #input layer for area\n",
        "area_output=Reshape(target_shape=(1,))(area_input)\n",
        "\n",
        "district_input=Input(shape=(1,),dtype='float32',name='district_input') #input layer for district\n",
        "no_of_district  = len(np.unique(district))\n",
        "district_embed_size = min(np.ceil((no_of_district)/2), 50 )\n",
        "district_embed_size = int(district_embed_size)\n",
        "x = Embedding(output_dim=district_embed_size, input_dim=no_of_district, input_length=1)(district_input) #embedding layer for district_input\n",
        "district_output=Reshape((district_embed_size,))(x)\n",
        "\n",
        "season_input=Input(shape=(1,),dtype='float32',name='season_input') #input layer for season\n",
        "no_of_season  = len(np.unique(season))\n",
        "season_embed_size = min(np.ceil((no_of_season)/1), 50 )\n",
        "season_embed_size = int(season_embed_size)\n",
        "x = Embedding(output_dim=season_embed_size, input_dim=no_of_season, input_length=1)(season_input) #embedding layer for season_input\n",
        "season_output=Reshape((season_embed_size,))(x)\n",
        "\n",
        "crop_input=Input(shape=(1,),dtype='float32',name='crop_input') #input layer for crop\n",
        "no_of_crop  = len(np.unique(crop))\n",
        "crop_embed_size = min(np.ceil((no_of_crop)/2), 50 )\n",
        "crop_embed_size = int(crop_embed_size)\n",
        "x = Embedding(output_dim=crop_embed_size, input_dim=no_of_crop, input_length=1)(crop_input)  #embedding layer for crop_input\n",
        "crop_output=Reshape((crop_embed_size,))(x)\n",
        "\n",
        "combined = keras.layers.concatenate([district_output,year_output,season_output,crop_output,area_output]) #merge all ouput layers\n",
        "total_size=district_embed_size+season_embed_size+crop_embed_size+1+1            # total shape of model after embedding and merging\n",
        "reshaped=Reshape((total_size,1))(combined)                                      #Reshape in (none,total_size,1)\n",
        "\n",
        "x=Conv1D(32, 1,strides=1,activation='relu', padding='same')(reshaped)\n",
        "x=AveragePooling1D(1)(x)\n",
        "x=Flatten()(x)\n",
        "x=Dense(1124,activation='relu')(x)\n",
        "x=Dense(1024,activation='relu')(x)\n",
        "x=Dense(764,activation='relu')(x)\n",
        "x=Dense(512,activation='relu')(x)\n",
        "x=Dense(512,activation='relu')(x)\n",
        "x=Dense(252,activation='relu')(x)\n",
        "final_output=Dense(1,name='final_ouput')(x)                                     #final output\n",
        "\n",
        "model =models.Model(inputs=[district_input,year_input,season_input,crop_input,area_input], outputs=[final_output])"
      ],
      "execution_count": null,
      "outputs": []
    },
    {
      "cell_type": "code",
      "metadata": {
        "id": "6NyeOYCJBSnY",
        "colab_type": "code",
        "colab": {}
      },
      "source": [
        "optimizers.RMSprop(lr=0.0001)\n",
        "model.compile(optimizer='RMSprop', loss='mse', metrics=['mape'])"
      ],
      "execution_count": null,
      "outputs": []
    },
    {
      "cell_type": "code",
      "metadata": {
        "id": "cVaCf9u0BwL8",
        "colab_type": "code",
        "colab": {}
      },
      "source": [
        "model.fit([district,year,season,crop,area],y_train,batch_size=10715,epochs=25)  #train the nodel   "
      ],
      "execution_count": null,
      "outputs": []
    },
    {
      "cell_type": "markdown",
      "metadata": {
        "id": "iILPxeyBa6Ui",
        "colab_type": "text"
      },
      "source": [
        "**model accuracy:-**\n",
        "      mean absolute percetage error = 29.31"
      ]
    },
    {
      "cell_type": "code",
      "metadata": {
        "id": "-pzEweusCVJl",
        "colab_type": "code",
        "colab": {}
      },
      "source": [
        "loss,mape=model.evaluate([district1,year1,season1,crop1,area1],y_test)\n",
        "mape"
      ],
      "execution_count": null,
      "outputs": []
    },
    {
      "cell_type": "code",
      "metadata": {
        "id": "ZbeVW7nggZpm",
        "colab_type": "code",
        "colab": {}
      },
      "source": [
        "value=model.predict([district,year,season,crop,area])\n",
        "value *= stdprod\n",
        "value += meanprod\n",
        "value2=value[np.where(value<0)]\n",
        "print(value2.shape)\n",
        "value=model.predict([district1,year1,season1,crop1,area1])\n",
        "value *= stdprod\n",
        "value += meanprod\n",
        "value2=value[np.where(value<0)]\n",
        "print(value2.shape)"
      ],
      "execution_count": null,
      "outputs": []
    },
    {
      "cell_type": "code",
      "metadata": {
        "id": "ik8HRvSlbqUQ",
        "colab_type": "code",
        "colab": {}
      },
      "source": [
        "# serialize model to JSON\n",
        "model_json = model.to_json()\n",
        "with open(\"/gdrive/My Drive/Colab Notebooks/megaproject2/Saved_model/embedded_model4.json\", \"w\") as json_file: #remove comment if need save model\n",
        "    json_file.write(model_json)\n",
        "# serialize weights to HDF5\n",
        "model.save_weights(\"/gdrive/My Drive/Colab Notebooks/megaproject2/Saved_model/embedded_model4.h5\")\n",
        "print(\"model is saved to disk\")\n",
        " \n",
        "\n"
      ],
      "execution_count": null,
      "outputs": []
    },
    {
      "cell_type": "code",
      "metadata": {
        "id": "1usKL9MAUpB2",
        "colab_type": "code",
        "colab": {}
      },
      "source": [
        "# later...\n",
        " \n",
        "# load json and create model\n",
        "json_file = open('/gdrive/My Drive/Colab Notebooks/megaproject/Saved_model/embedded_model4.json', 'r')\n",
        "loaded_model_json = json_file.read()\n",
        "json_file.close()\n",
        "loaded_model = model_from_json(loaded_model_json)\n",
        "# load weights into new model\n",
        "loaded_model.load_weights(\"/gdrive/My Drive/Colab Notebooks/megaproject/Saved_model/embedded_model4.h5\")\n",
        "print(\"Loaded model from disk\")\n"
      ],
      "execution_count": null,
      "outputs": []
    },
    {
      "cell_type": "code",
      "metadata": {
        "id": "guY5sWZF6a9w",
        "colab_type": "code",
        "colab": {}
      },
      "source": [
        "loaded_model.compile(optimizer='RMSprop', loss='mse', metrics=['mape'])\n"
      ],
      "execution_count": null,
      "outputs": []
    },
    {
      "cell_type": "code",
      "metadata": {
        "id": "OHeAXmajY5Oa",
        "colab_type": "code",
        "colab": {}
      },
      "source": [
        "loaded_model.fit([district,year,season,crop,area],y_train,batch_size=10715,epochs=1)"
      ],
      "execution_count": null,
      "outputs": []
    },
    {
      "cell_type": "code",
      "metadata": {
        "id": "8j9mw5et1-fT",
        "colab_type": "code",
        "colab": {}
      },
      "source": [
        "mse, mape=loaded_model.evaluate([district1,year1,season1,crop1,area1],y_test)\n",
        "print(\"mape=\",mape)"
      ],
      "execution_count": null,
      "outputs": []
    },
    {
      "cell_type": "code",
      "metadata": {
        "id": "yuxhNuy9h5Yr",
        "colab_type": "code",
        "colab": {}
      },
      "source": [
        "value=loaded_model.predict([district,year,season,crop,area])\n",
        "value *= stdprod\n",
        "value += meanprod\n",
        "value2=value[np.where(value<0)]\n",
        "print(value2.shape)\n",
        "value=loaded_model.predict([district1,year1,season1,crop1,area1])\n",
        "value *= stdprod\n",
        "value += meanprod\n",
        "value2=value[np.where(value<0)]\n",
        "print(value2.shape)"
      ],
      "execution_count": null,
      "outputs": []
    }
  ]
}