{
  "nbformat": 4,
  "nbformat_minor": 0,
  "metadata": {
    "colab": {
      "name": "Mega_output4_flask.ipynb",
      "provenance": [],
      "collapsed_sections": []
    },
    "kernelspec": {
      "name": "python3",
      "display_name": "Python 3"
    },
    "accelerator": "GPU"
  },
  "cells": [
    {
      "cell_type": "code",
      "metadata": {
        "id": "X-jSFwROyzlZ",
        "colab_type": "code",
        "colab": {
          "base_uri": "https://localhost:8080/",
          "height": 34
        },
        "outputId": "f0c5f2e2-3791-43ad-b044-e7c00d9d3781"
      },
      "source": [
        "from google.colab import drive\n",
        "drive.mount('/gdrive',force_remount=True)"
      ],
      "execution_count": null,
      "outputs": [
        {
          "output_type": "stream",
          "text": [
            "Mounted at /gdrive\n"
          ],
          "name": "stdout"
        }
      ]
    },
    {
      "cell_type": "code",
      "metadata": {
        "id": "vKWriRpBytfj",
        "colab_type": "code",
        "colab": {
          "base_uri": "https://localhost:8080/",
          "height": 51
        },
        "outputId": "1a1df5cc-d1f8-4dc2-a6f8-1639f372ebd6"
      },
      "source": [
        "%tensorflow_version 1.x \n",
        "import tensorflow as tf\n",
        "import keras\n",
        "from keras import backend as K\n",
        "from keras import models\n",
        "from keras import layers \n",
        "from keras import optimizers\n",
        "from keras.models import model_from_json\n",
        "import numpy as np\n",
        "import pandas as pd"
      ],
      "execution_count": null,
      "outputs": [
        {
          "output_type": "stream",
          "text": [
            "TensorFlow 1.x selected.\n"
          ],
          "name": "stdout"
        },
        {
          "output_type": "stream",
          "text": [
            "Using TensorFlow backend.\n"
          ],
          "name": "stderr"
        }
      ]
    },
    {
      "cell_type": "code",
      "metadata": {
        "id": "TZn1Z0BDJ1s5",
        "colab_type": "code",
        "colab": {
          "base_uri": "https://localhost:8080/",
          "height": 272
        },
        "outputId": "073079fc-3140-4a76-88f8-7bee5c3e1a40"
      },
      "source": [
        "pip install flask_ngrok"
      ],
      "execution_count": null,
      "outputs": [
        {
          "output_type": "stream",
          "text": [
            "Collecting flask_ngrok\n",
            "  Downloading https://files.pythonhosted.org/packages/af/6c/f54cb686ad1129e27d125d182f90f52b32f284e6c8df58c1bae54fa1adbc/flask_ngrok-0.0.25-py3-none-any.whl\n",
            "Requirement already satisfied: requests in /usr/local/lib/python3.6/dist-packages (from flask_ngrok) (2.23.0)\n",
            "Requirement already satisfied: Flask>=0.8 in /usr/local/lib/python3.6/dist-packages (from flask_ngrok) (1.1.2)\n",
            "Requirement already satisfied: certifi>=2017.4.17 in /usr/local/lib/python3.6/dist-packages (from requests->flask_ngrok) (2020.6.20)\n",
            "Requirement already satisfied: urllib3!=1.25.0,!=1.25.1,<1.26,>=1.21.1 in /usr/local/lib/python3.6/dist-packages (from requests->flask_ngrok) (1.24.3)\n",
            "Requirement already satisfied: idna<3,>=2.5 in /usr/local/lib/python3.6/dist-packages (from requests->flask_ngrok) (2.10)\n",
            "Requirement already satisfied: chardet<4,>=3.0.2 in /usr/local/lib/python3.6/dist-packages (from requests->flask_ngrok) (3.0.4)\n",
            "Requirement already satisfied: itsdangerous>=0.24 in /usr/local/lib/python3.6/dist-packages (from Flask>=0.8->flask_ngrok) (1.1.0)\n",
            "Requirement already satisfied: Jinja2>=2.10.1 in /usr/local/lib/python3.6/dist-packages (from Flask>=0.8->flask_ngrok) (2.11.2)\n",
            "Requirement already satisfied: Werkzeug>=0.15 in /usr/local/lib/python3.6/dist-packages (from Flask>=0.8->flask_ngrok) (1.0.1)\n",
            "Requirement already satisfied: click>=5.1 in /usr/local/lib/python3.6/dist-packages (from Flask>=0.8->flask_ngrok) (7.1.2)\n",
            "Requirement already satisfied: MarkupSafe>=0.23 in /usr/local/lib/python3.6/dist-packages (from Jinja2>=2.10.1->Flask>=0.8->flask_ngrok) (1.1.1)\n",
            "Installing collected packages: flask-ngrok\n",
            "Successfully installed flask-ngrok-0.0.25\n"
          ],
          "name": "stdout"
        }
      ]
    },
    {
      "cell_type": "code",
      "metadata": {
        "id": "YQPqx8N5JxRy",
        "colab_type": "code",
        "colab": {}
      },
      "source": [
        "from flask_ngrok import run_with_ngrok\n",
        "from flask import Flask,render_template,request"
      ],
      "execution_count": null,
      "outputs": []
    },
    {
      "cell_type": "code",
      "metadata": {
        "id": "JA-JoP_dKBRd",
        "colab_type": "code",
        "colab": {}
      },
      "source": [
        "%mkdir templates -p #create templates directory \n",
        "%mkdir static -p    #create static directory"
      ],
      "execution_count": null,
      "outputs": []
    },
    {
      "cell_type": "code",
      "metadata": {
        "id": "sRG0YmaLKix5",
        "colab_type": "code",
        "colab": {}
      },
      "source": [
        "!cp /gdrive/My\\ Drive/Colab\\ Notebooks/megaproject2/flask/state_district.js static/state_district.js   #copy javascript file to static directory\n",
        "!cp /gdrive/My\\ Drive/Colab\\ Notebooks/megaproject2/flask/output.html templates/output.html            #copy html files to templates directory\n",
        "!cp /gdrive/My\\ Drive/Colab\\ Notebooks/megaproject2/flask/yield_input.html templates/yield_input.html"
      ],
      "execution_count": null,
      "outputs": []
    },
    {
      "cell_type": "code",
      "metadata": {
        "id": "zfF1PmnBzZon",
        "colab_type": "code",
        "colab": {}
      },
      "source": [
        "def prod(input_district,input_year,input_season,input_crop,input_area):\n",
        "  train=pd.read_csv('/gdrive/My Drive/Colab Notebooks/megaproject2/train.csv')\n",
        "  district_data = pd.read_csv('/gdrive/My Drive/Colab Notebooks/megaproject2/Classified_data/district.csv')\n",
        "  season_data = pd.read_csv('/gdrive/My Drive/Colab Notebooks/megaproject2/Classified_data/season.csv')\n",
        "  crop_data = pd.read_csv('/gdrive/My Drive/Colab Notebooks/megaproject2/Classified_data/crop.csv')\n",
        "\n",
        "  '''normalization for train'''\n",
        "  cols_to_norm = ['Crop_Year']\n",
        "  meanyear = train[cols_to_norm].mean()\n",
        "  train[cols_to_norm] -= meanyear\n",
        "  stdyear = train[cols_to_norm].std()\n",
        "  train[cols_to_norm] /=stdyear\n",
        "\n",
        "\n",
        "  cols_to_norm = ['Area']\n",
        "  meanarea = train[cols_to_norm].mean()\n",
        "  train[cols_to_norm] -= meanarea\n",
        "  stdarea = train[cols_to_norm].std()\n",
        "  train[cols_to_norm] /=stdarea\n",
        "\n",
        "  cols_to_norm = ['Production']\n",
        "  meanprod = train[cols_to_norm].mean()\n",
        "  train[cols_to_norm] -= meanprod\n",
        "  stdprod = train[cols_to_norm].std()\n",
        "  train[cols_to_norm] /=stdprod\n",
        "\n",
        "  input_year -=meanyear\n",
        "  input_year /=stdyear\n",
        "  input_area -=meanarea\n",
        "  input_area /=stdarea\n",
        "\n",
        "  # to convert string to integer \n",
        "  district1=district_data.loc[district_data['0']==input_district].index\n",
        "  season1=season_data.loc[season_data['0']==input_season].index\n",
        "  crop1=crop_data.loc[crop_data['0']==input_crop].index\n",
        "  year1=input_year\n",
        "  area1=input_area\n",
        "\n",
        "  district1=np.asarray(district1,dtype='float32')\n",
        "  year1=np.asarray(year1,dtype='float32')\n",
        "  season1=np.asarray(season1,dtype='float32')\n",
        "  crop1=np.asarray(crop1,dtype='float32')\n",
        "  area1=np.asarray(area1,dtype='float32')\n",
        "  \n",
        "  K.clear_session()\n",
        "  # load json and create model\n",
        "  json_file = open('/gdrive/My Drive/Colab Notebooks/megaproject2/Saved_model/embedded_model4.json', 'r')\n",
        "  loaded_model_json = json_file.read()\n",
        "  json_file.close()\n",
        "  loaded_model = model_from_json(loaded_model_json)\n",
        "  # load weights into new model\n",
        "  loaded_model.load_weights(\"/gdrive/My Drive/Colab Notebooks/megaproject2/Saved_model/embedded_model4.h5\")\n",
        "\n",
        "  loaded_model.compile(optimizer='RMSprop', loss='mse', metrics=['mape'])\n",
        "  production=loaded_model.predict([district1,year1,season1,crop1,area1])\n",
        "  K.clear_session()\n",
        "  production*=stdprod\n",
        "  production+=meanprod\n",
        "  if production < 0:\n",
        "    production=0\n",
        "  production=production[0][0]  \n",
        "  return(production)"
      ],
      "execution_count": null,
      "outputs": []
    },
    {
      "cell_type": "code",
      "metadata": {
        "id": "uhebD3xpgz2V",
        "colab_type": "code",
        "colab": {
          "base_uri": "https://localhost:8080/",
          "height": 479
        },
        "outputId": "798907ed-37c0-4252-a36f-9b3198d16f55"
      },
      "source": [
        "app = Flask(__name__)\n",
        "run_with_ngrok(app)\n",
        "@app.route('/')\n",
        "def home():\n",
        "   return render_template('yield_input.html')\n",
        "\n",
        "@app.route('/output',methods = ['POST', 'GET'])\n",
        "def output():\n",
        "   if request.method == 'POST':\n",
        "      state = request.form['state']\n",
        "      district=request.form['district']\n",
        "      year=request.form['year']\n",
        "      season=request.form['season']\n",
        "      crop=request.form['crop']\n",
        "      area=request.form['area']\n",
        "      year=int(year)\n",
        "      area=float(area)\n",
        "      production=prod(district,year,season,crop,area)\n",
        "      return render_template('output.html',state=state,district=district,year=year,season=season,crop=crop,area=area,production=production)\n",
        "\n",
        "if __name__ == '__main__':\n",
        "   app.run()"
      ],
      "execution_count": null,
      "outputs": [
        {
          "output_type": "stream",
          "text": [
            " * Serving Flask app \"__main__\" (lazy loading)\n",
            " * Environment: production\n",
            "\u001b[31m   WARNING: This is a development server. Do not use it in a production deployment.\u001b[0m\n",
            "\u001b[2m   Use a production WSGI server instead.\u001b[0m\n",
            " * Debug mode: off\n"
          ],
          "name": "stdout"
        },
        {
          "output_type": "stream",
          "text": [
            " * Running on http://127.0.0.1:5000/ (Press CTRL+C to quit)\n"
          ],
          "name": "stderr"
        },
        {
          "output_type": "stream",
          "text": [
            " * Running on http://2beb59fb116b.ngrok.io\n",
            " * Traffic stats available on http://127.0.0.1:4040\n"
          ],
          "name": "stdout"
        },
        {
          "output_type": "stream",
          "text": [
            "127.0.0.1 - - [18/Sep/2020 15:25:48] \"\u001b[37mGET / HTTP/1.1\u001b[0m\" 200 -\n",
            "127.0.0.1 - - [18/Sep/2020 15:25:50] \"\u001b[33mGET /css/bootstrap.min.css HTTP/1.1\u001b[0m\" 404 -\n",
            "127.0.0.1 - - [18/Sep/2020 15:25:51] \"\u001b[33mGET /jquery-3.3.1.js HTTP/1.1\u001b[0m\" 404 -\n",
            "127.0.0.1 - - [18/Sep/2020 15:25:52] \"\u001b[37mGET /static/state_district.js HTTP/1.1\u001b[0m\" 200 -\n",
            "127.0.0.1 - - [18/Sep/2020 15:26:17] \"\u001b[33mGET /favicon.ico HTTP/1.1\u001b[0m\" 404 -\n"
          ],
          "name": "stderr"
        },
        {
          "output_type": "stream",
          "text": [
            "WARNING:tensorflow:From /tensorflow-1.15.2/python3.6/tensorflow_core/python/ops/resource_variable_ops.py:1630: calling BaseResourceVariable.__init__ (from tensorflow.python.ops.resource_variable_ops) with constraint is deprecated and will be removed in a future version.\n",
            "Instructions for updating:\n",
            "If using Keras pass *_constraint arguments to layers.\n",
            "WARNING:tensorflow:From /tensorflow-1.15.2/python3.6/keras/backend/tensorflow_backend.py:4074: The name tf.nn.avg_pool is deprecated. Please use tf.nn.avg_pool2d instead.\n",
            "\n",
            "WARNING:tensorflow:From /tensorflow-1.15.2/python3.6/keras/backend/tensorflow_backend.py:422: The name tf.global_variables is deprecated. Please use tf.compat.v1.global_variables instead.\n",
            "\n"
          ],
          "name": "stdout"
        },
        {
          "output_type": "stream",
          "text": [
            "127.0.0.1 - - [18/Sep/2020 15:27:05] \"\u001b[37mPOST /output HTTP/1.1\u001b[0m\" 200 -\n",
            "127.0.0.1 - - [18/Sep/2020 15:27:06] \"\u001b[33mGET /css/bootstrap.min.css HTTP/1.1\u001b[0m\" 404 -\n",
            "127.0.0.1 - - [18/Sep/2020 15:27:06] \"\u001b[33mGET /jquery-3.3.1.js HTTP/1.1\u001b[0m\" 404 -\n",
            "127.0.0.1 - - [18/Sep/2020 15:29:18] \"\u001b[37mGET / HTTP/1.1\u001b[0m\" 200 -\n",
            "127.0.0.1 - - [18/Sep/2020 15:29:18] \"\u001b[33mGET /css/bootstrap.min.css HTTP/1.1\u001b[0m\" 404 -\n",
            "127.0.0.1 - - [18/Sep/2020 15:29:18] \"\u001b[33mGET /jquery-3.3.1.js HTTP/1.1\u001b[0m\" 404 -\n"
          ],
          "name": "stderr"
        }
      ]
    }
  ]
}